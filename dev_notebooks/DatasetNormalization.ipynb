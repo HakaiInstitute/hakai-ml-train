{
 "cells": [
  {
   "cell_type": "code",
   "id": "initial_id",
   "metadata": {
    "collapsed": true,
    "ExecuteTime": {
     "end_time": "2024-05-09T16:14:12.926107Z",
     "start_time": "2024-05-09T16:14:12.924494Z"
    }
   },
   "source": "# Calculate the band means and std for the RGBI kelp PA dataset",
   "execution_count": 1,
   "outputs": []
  },
  {
   "metadata": {
    "ExecuteTime": {
     "end_time": "2024-05-09T17:06:09.976985Z",
     "start_time": "2024-05-09T17:06:07.597454Z"
    }
   },
   "cell_type": "code",
   "source": [
    "import numpy as np\n",
    "import albumentations as A\n",
    "from train.datamodule import DataModule \n",
    "from tqdm.auto import tqdm\n",
    "import torch\n",
    "\n",
    "NUM_BANDS = 4\n",
    "\n",
    "# Transforms\n",
    "transform = A.ToFloat(p=1.0)\n",
    "\n",
    "# Load the dataset\n",
    "dm = DataModule(\n",
    "    data_dir=\"/home/taylor/data/KP-ACO-RGBI-Nov2023/\",\n",
    "    num_classes=2,\n",
    "    batch_size=8,\n",
    "    train_transforms=transform,\n",
    "    tests_transforms=transform,\n",
    ")\n",
    "dm.setup()"
   ],
   "id": "dc643e5b6736b711",
   "execution_count": 1,
   "outputs": []
  },
  {
   "metadata": {
    "ExecuteTime": {
     "end_time": "2024-05-09T17:06:09.979231Z",
     "start_time": "2024-05-09T17:06:09.977634Z"
    }
   },
   "cell_type": "code",
   "source": "DEVICE = torch.device(\"cuda\")",
   "id": "71204346d630ca23",
   "execution_count": 2,
   "outputs": []
  },
  {
   "metadata": {
    "ExecuteTime": {
     "end_time": "2024-05-09T17:16:34.857393Z",
     "start_time": "2024-05-09T17:06:09.979845Z"
    }
   },
   "cell_type": "code",
   "source": [
    "# Calculate the mean and std for the dataset\n",
    "x = torch.Tensor([0] * NUM_BANDS).to(DEVICE)\n",
    "xsq = torch.Tensor([0] * NUM_BANDS).to(DEVICE)\n",
    "count = 0\n",
    "\n",
    "train_dataloader = dm.train_dataloader()\n",
    "\n",
    "for img, label in tqdm(iter(train_dataloader), total=len(train_dataloader)):\n",
    "    img = img.to(DEVICE)\n",
    "    x += img.sum(dim=(0,1,2))\n",
    "    xsq += torch.multiply(img,img).sum(dim=(0,1,2))\n",
    "    count += img.shape[0] * img.shape[1] * img.shape[2]\n",
    "    "
   ],
   "id": "54a000aacc33435a",
   "execution_count": 3,
   "outputs": []
  },
  {
   "metadata": {
    "ExecuteTime": {
     "end_time": "2024-05-09T17:16:34.948938Z",
     "start_time": "2024-05-09T17:16:34.858449Z"
    }
   },
   "cell_type": "code",
   "source": [
    "# Calculate the mean and std\n",
    "mean = x / count\n",
    "std = torch.sqrt(xsq / count - torch.multiply(mean, mean))\n",
    "\n",
    "print(f\"Mean: {mean}\")\n",
    "print(f\"Std: {std}\")"
   ],
   "id": "19db94eb4ac8c4ff",
   "execution_count": 4,
   "outputs": []
  },
  {
   "metadata": {},
   "cell_type": "code",
   "execution_count": null,
   "source": "",
   "id": "20d3e83ce38ef9ce",
   "outputs": []
  }
 ],
 "metadata": {
  "kernelspec": {
   "display_name": "Python 3",
   "language": "python",
   "name": "python3"
  },
  "language_info": {
   "codemirror_mode": {
    "name": "ipython",
    "version": 2
   },
   "file_extension": ".py",
   "mimetype": "text/x-python",
   "name": "python",
   "nbconvert_exporter": "python",
   "pygments_lexer": "ipython2",
   "version": "2.7.6"
  }
 },
 "nbformat": 4,
 "nbformat_minor": 5
}
