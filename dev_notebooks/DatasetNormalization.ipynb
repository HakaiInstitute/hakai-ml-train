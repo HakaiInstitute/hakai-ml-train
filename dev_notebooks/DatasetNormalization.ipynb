{
 "cells": [
  {
   "cell_type": "code",
   "execution_count": 1,
   "id": "initial_id",
   "metadata": {
    "ExecuteTime": {
     "end_time": "2024-05-09T16:14:12.926107Z",
     "start_time": "2024-05-09T16:14:12.924494Z"
    },
    "collapsed": true
   },
   "outputs": [],
   "source": [
    "# Calculate the band means and std for the RGBI kelp PA dataset"
   ]
  },
  {
   "cell_type": "code",
   "execution_count": 1,
   "id": "dc643e5b6736b711",
   "metadata": {
    "ExecuteTime": {
     "end_time": "2024-05-09T17:06:09.976985Z",
     "start_time": "2024-05-09T17:06:07.597454Z"
    }
   },
   "outputs": [],
   "source": [
    "import albumentations as A\n",
    "import torch\n",
    "from tqdm.auto import tqdm\n",
    "\n",
    "from train.datamodule import DataModule\n",
    "\n",
    "NUM_BANDS = 4\n",
    "\n",
    "# Transforms\n",
    "transform = A.ToFloat(p=1.0)\n",
    "\n",
    "# Load the dataset\n",
    "dm = DataModule(\n",
    "    data_dir=\"/home/taylor/data/KP-ACO-RGBI-Nov2023/\",\n",
    "    num_classes=2,\n",
    "    batch_size=8,\n",
    "    train_transforms=transform,\n",
    "    tests_transforms=transform,\n",
    ")\n",
    "dm.setup()"
   ]
  },
  {
   "cell_type": "code",
   "execution_count": 2,
   "id": "71204346d630ca23",
   "metadata": {
    "ExecuteTime": {
     "end_time": "2024-05-09T17:06:09.979231Z",
     "start_time": "2024-05-09T17:06:09.977634Z"
    }
   },
   "outputs": [],
   "source": [
    "DEVICE = torch.device(\"cuda\")"
   ]
  },
  {
   "cell_type": "code",
   "execution_count": 3,
   "id": "54a000aacc33435a",
   "metadata": {
    "ExecuteTime": {
     "end_time": "2024-05-09T17:16:34.857393Z",
     "start_time": "2024-05-09T17:06:09.979845Z"
    }
   },
   "outputs": [],
   "source": [
    "# Calculate the mean and std for the dataset\n",
    "x = torch.Tensor([0] * NUM_BANDS).to(DEVICE)\n",
    "xsq = torch.Tensor([0] * NUM_BANDS).to(DEVICE)\n",
    "count = 0\n",
    "\n",
    "train_dataloader = dm.train_dataloader()\n",
    "\n",
    "for img, label in tqdm(iter(train_dataloader), total=len(train_dataloader)):\n",
    "    img = img.to(DEVICE)\n",
    "    x += img.sum(dim=(0, 1, 2))\n",
    "    xsq += torch.multiply(img, img).sum(dim=(0, 1, 2))\n",
    "    count += img.shape[0] * img.shape[1] * img.shape[2]"
   ]
  },
  {
   "cell_type": "code",
   "execution_count": 4,
   "id": "19db94eb4ac8c4ff",
   "metadata": {
    "ExecuteTime": {
     "end_time": "2024-05-09T17:16:34.948938Z",
     "start_time": "2024-05-09T17:16:34.858449Z"
    }
   },
   "outputs": [],
   "source": [
    "# Calculate the mean and std\n",
    "mean = x / count\n",
    "std = torch.sqrt(xsq / count - torch.multiply(mean, mean))\n",
    "\n",
    "print(f\"Mean: {mean}\")\n",
    "print(f\"Std: {std}\")"
   ]
  },
  {
   "cell_type": "code",
   "execution_count": null,
   "id": "20d3e83ce38ef9ce",
   "metadata": {},
   "outputs": [],
   "source": []
  }
 ],
 "metadata": {
  "kernelspec": {
   "display_name": "Python 3",
   "language": "python",
   "name": "python3"
  },
  "language_info": {
   "codemirror_mode": {
    "name": "ipython",
    "version": 2
   },
   "file_extension": ".py",
   "mimetype": "text/x-python",
   "name": "python",
   "nbconvert_exporter": "python",
   "pygments_lexer": "ipython2",
   "version": "2.7.6"
  }
 },
 "nbformat": 4,
 "nbformat_minor": 5
}
