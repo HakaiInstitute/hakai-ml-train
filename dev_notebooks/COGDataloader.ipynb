{
 "cells": [
  {
   "cell_type": "code",
   "execution_count": 1,
   "id": "86a578ee-fbde-48f8-8b9a-fb7d428e1166",
   "metadata": {
    "ExecuteTime": {
     "end_time": "2024-01-19T17:57:09.515473Z",
     "start_time": "2024-01-19T17:56:34.684305200Z"
    }
   },
   "outputs": [
    {
     "name": "stderr",
     "output_type": "stream",
     "text": [
      "bash: warning: setlocale: LC_ALL: cannot change locale (en_US.UTF-8)\n"
     ]
    },
    {
     "name": "stdout",
     "output_type": "stream",
     "text": [
      "\n",
      "Looking for: ['torchgeo']\n",
      "\n",
      "\n",
      "Pinned packages:\n",
      "  - python 3.11.*\n",
      "\n",
      "\n",
      "Could not solve for environment specs\n",
      "The following packages are incompatible\n",
      "└─ torchgeo   is installable with the potential options\n",
      "   ├─ torchgeo [0.1.0|0.1.1|0.2.0|0.2.1] would require\n",
      "   │  └─ torchvision [>=0.10 |>=0.3 ] with the potential options\n",
      "   │     ├─ torchvision [0.10.0|0.10.1|0.8.2|0.9.0|0.9.1] would require\n",
      "   │     │  └─ python >=3.6,<3.7.0a0 , which can be installed;\n",
      "   │     ├─ torchvision [0.10.0|0.10.1|...|0.9.1] would require\n",
      "   │     │  └─ python >=3.7,<3.8.0a0 , which can be installed;\n",
      "   │     ├─ torchvision [0.10.0|0.10.1|...|0.9.1] would require\n",
      "   │     │  └─ python >=3.8,<3.9.0a0 , which can be installed;\n",
      "   │     ├─ torchvision [0.10.0|0.10.1|...|0.9.1] would require\n",
      "   │     │  └─ python >=3.9,<3.10.0a0 , which can be installed;\n",
      "   │     ├─ torchvision [0.12.0|0.13.0|...|0.16.1] would require\n",
      "   │     │  └─ python >=3.10,<3.11.0a0 , which can be installed;\n",
      "   │     ├─ torchvision [0.15.1|0.15.2] would require\n",
      "   │     │  └─ libjpeg-turbo >=2.1.5.1,<3.0a0 , which can be installed;\n",
      "   │     └─ torchvision [0.15.2|0.16.1] would require\n",
      "   │        └─ libjpeg-turbo >=3.0.0,<4.0a0 , which can be installed;\n",
      "   ├─ torchgeo [0.3.0|0.3.1] would require\n",
      "   │  └─ torchvision >=0.10,<0.14 , which can be installed (as previously explained);\n",
      "   ├─ torchgeo 0.4.0 would require\n",
      "   │  └─ torchvision >=0.13,<0.15 , which can be installed (as previously explained);\n",
      "   └─ torchgeo [0.4.1|0.5.0|0.5.1] would require\n",
      "      └─ torchvision [>=0.13 |>=0.13,<0.16 ], which can be installed (as previously explained).\n"
     ]
    },
    {
     "ename": "CalledProcessError",
     "evalue": "Command 'b'\\nmamba install -c conda-forge torchgeo\\n'' returned non-zero exit status 1.",
     "output_type": "error",
     "traceback": [
      "\u001B[0;31m---------------------------------------------------------------------------\u001B[0m",
      "\u001B[0;31mCalledProcessError\u001B[0m                        Traceback (most recent call last)",
      "Cell \u001B[0;32mIn[1], line 1\u001B[0m\n\u001B[0;32m----> 1\u001B[0m \u001B[43mget_ipython\u001B[49m\u001B[43m(\u001B[49m\u001B[43m)\u001B[49m\u001B[38;5;241;43m.\u001B[39;49m\u001B[43mrun_cell_magic\u001B[49m\u001B[43m(\u001B[49m\u001B[38;5;124;43m'\u001B[39;49m\u001B[38;5;124;43mbash\u001B[39;49m\u001B[38;5;124;43m'\u001B[39;49m\u001B[43m,\u001B[49m\u001B[43m \u001B[49m\u001B[38;5;124;43m'\u001B[39;49m\u001B[38;5;124;43m'\u001B[39;49m\u001B[43m,\u001B[49m\u001B[43m \u001B[49m\u001B[38;5;124;43m'\u001B[39;49m\u001B[38;5;130;43;01m\\n\u001B[39;49;00m\u001B[38;5;124;43mmamba install -c conda-forge torchgeo\u001B[39;49m\u001B[38;5;130;43;01m\\n\u001B[39;49;00m\u001B[38;5;124;43m'\u001B[39;49m\u001B[43m)\u001B[49m\n",
      "File \u001B[0;32m~/mambaforge/envs/kom/lib/python3.11/site-packages/IPython/core/interactiveshell.py:2517\u001B[0m, in \u001B[0;36mInteractiveShell.run_cell_magic\u001B[0;34m(self, magic_name, line, cell)\u001B[0m\n\u001B[1;32m   2515\u001B[0m \u001B[38;5;28;01mwith\u001B[39;00m \u001B[38;5;28mself\u001B[39m\u001B[38;5;241m.\u001B[39mbuiltin_trap:\n\u001B[1;32m   2516\u001B[0m     args \u001B[38;5;241m=\u001B[39m (magic_arg_s, cell)\n\u001B[0;32m-> 2517\u001B[0m     result \u001B[38;5;241m=\u001B[39m \u001B[43mfn\u001B[49m\u001B[43m(\u001B[49m\u001B[38;5;241;43m*\u001B[39;49m\u001B[43margs\u001B[49m\u001B[43m,\u001B[49m\u001B[43m \u001B[49m\u001B[38;5;241;43m*\u001B[39;49m\u001B[38;5;241;43m*\u001B[39;49m\u001B[43mkwargs\u001B[49m\u001B[43m)\u001B[49m\n\u001B[1;32m   2519\u001B[0m \u001B[38;5;66;03m# The code below prevents the output from being displayed\u001B[39;00m\n\u001B[1;32m   2520\u001B[0m \u001B[38;5;66;03m# when using magics with decorator @output_can_be_silenced\u001B[39;00m\n\u001B[1;32m   2521\u001B[0m \u001B[38;5;66;03m# when the last Python token in the expression is a ';'.\u001B[39;00m\n\u001B[1;32m   2522\u001B[0m \u001B[38;5;28;01mif\u001B[39;00m \u001B[38;5;28mgetattr\u001B[39m(fn, magic\u001B[38;5;241m.\u001B[39mMAGIC_OUTPUT_CAN_BE_SILENCED, \u001B[38;5;28;01mFalse\u001B[39;00m):\n",
      "File \u001B[0;32m~/mambaforge/envs/kom/lib/python3.11/site-packages/IPython/core/magics/script.py:154\u001B[0m, in \u001B[0;36mScriptMagics._make_script_magic.<locals>.named_script_magic\u001B[0;34m(line, cell)\u001B[0m\n\u001B[1;32m    152\u001B[0m \u001B[38;5;28;01melse\u001B[39;00m:\n\u001B[1;32m    153\u001B[0m     line \u001B[38;5;241m=\u001B[39m script\n\u001B[0;32m--> 154\u001B[0m \u001B[38;5;28;01mreturn\u001B[39;00m \u001B[38;5;28;43mself\u001B[39;49m\u001B[38;5;241;43m.\u001B[39;49m\u001B[43mshebang\u001B[49m\u001B[43m(\u001B[49m\u001B[43mline\u001B[49m\u001B[43m,\u001B[49m\u001B[43m \u001B[49m\u001B[43mcell\u001B[49m\u001B[43m)\u001B[49m\n",
      "File \u001B[0;32m~/mambaforge/envs/kom/lib/python3.11/site-packages/IPython/core/magics/script.py:314\u001B[0m, in \u001B[0;36mScriptMagics.shebang\u001B[0;34m(self, line, cell)\u001B[0m\n\u001B[1;32m    309\u001B[0m \u001B[38;5;28;01mif\u001B[39;00m args\u001B[38;5;241m.\u001B[39mraise_error \u001B[38;5;129;01mand\u001B[39;00m p\u001B[38;5;241m.\u001B[39mreturncode \u001B[38;5;241m!=\u001B[39m \u001B[38;5;241m0\u001B[39m:\n\u001B[1;32m    310\u001B[0m     \u001B[38;5;66;03m# If we get here and p.returncode is still None, we must have\u001B[39;00m\n\u001B[1;32m    311\u001B[0m     \u001B[38;5;66;03m# killed it but not yet seen its return code. We don't wait for it,\u001B[39;00m\n\u001B[1;32m    312\u001B[0m     \u001B[38;5;66;03m# in case it's stuck in uninterruptible sleep. -9 = SIGKILL\u001B[39;00m\n\u001B[1;32m    313\u001B[0m     rc \u001B[38;5;241m=\u001B[39m p\u001B[38;5;241m.\u001B[39mreturncode \u001B[38;5;129;01mor\u001B[39;00m \u001B[38;5;241m-\u001B[39m\u001B[38;5;241m9\u001B[39m\n\u001B[0;32m--> 314\u001B[0m     \u001B[38;5;28;01mraise\u001B[39;00m CalledProcessError(rc, cell)\n",
      "\u001B[0;31mCalledProcessError\u001B[0m: Command 'b'\\nmamba install -c conda-forge torchgeo\\n'' returned non-zero exit status 1."
     ]
    }
   ],
   "source": [
    "%%bash\n",
    "\n",
    "mamba install -c conda-forge torchgeo"
   ]
  },
  {
   "cell_type": "code",
   "execution_count": null,
   "id": "f34c835a-1edd-4ea8-ae1c-2e6f3388342a",
   "metadata": {
    "ExecuteTime": {
     "start_time": "2024-01-19T17:57:09.515473Z"
    }
   },
   "outputs": [],
   "source": [
    "from torchgeo.datasets import RasterDataset, stack_samples, unbind_samples\n",
    "import rasterio\n",
    "from pathlib import Path\n",
    "import matplotlib.pyplot as plt\n",
    "import torch\n",
    "from torch.utils.data import DataLoader\n",
    "from torchgeo.samplers import RandomBatchGeoSampler"
   ]
  },
  {
   "cell_type": "code",
   "execution_count": null,
   "id": "6eff05e5-bdbc-4400-b340-782278e3210a",
   "metadata": {
    "ExecuteTime": {
     "end_time": "2024-01-19T17:57:09.523805600Z",
     "start_time": "2024-01-19T17:57:09.523805600Z"
    }
   },
   "outputs": [],
   "source": [
    "ROOT_DIR = Path(\"/mnt/data/Taylor/ml/kelp_presence_data/Nov2023ACO/raw_data\")\n",
    "img_path = ROOT_DIR / \"ACO_CC_Goose_2020/image.tif\"\n",
    "label_path = ROOT_DIR / \"ACO_CC_Goose_2020/label.tif\""
   ]
  },
  {
   "cell_type": "code",
   "execution_count": null,
   "id": "c15d8e70-3ac3-4756-ac52-c683398335bf",
   "metadata": {
    "ExecuteTime": {
     "end_time": "2024-01-19T17:57:09.524733200Z",
     "start_time": "2024-01-19T17:57:09.524733200Z"
    }
   },
   "outputs": [],
   "source": [
    "with rasterio.open(img_path) as f:\n",
    "    profile = f.profile\n",
    "profile"
   ]
  },
  {
   "cell_type": "code",
   "execution_count": null,
   "id": "3c92eff0-ec24-4be5-bfe9-031511300b61",
   "metadata": {
    "ExecuteTime": {
     "end_time": "2024-01-19T17:57:09.524733200Z",
     "start_time": "2024-01-19T17:57:09.524733200Z"
    }
   },
   "outputs": [],
   "source": [
    "class ACOImageDataset(RasterDataset):\n",
    "    filename_glob = \"**/image.tif\"\n",
    "    is_image = True\n",
    "    separate_files = False\n",
    "    all_bands = [1,2,3,4]\n",
    "    rgb_bands = [1,2,3]\n",
    "\n",
    "    def plot(self, sample):\n",
    "        # Find the correct band index order\n",
    "        rgb_indices = []\n",
    "        for band in self.rgb_bands:\n",
    "            rgb_indices.append(self.all_bands.index(band))\n",
    "\n",
    "        # Reorder and rescale the image\n",
    "        image = sample[\"image\"][rgb_indices].permute(1, 2, 0)\n",
    "        image = torch.clamp(image / 255., min=0, max=1).numpy()\n",
    "\n",
    "        # Plot the image\n",
    "        fig, ax = plt.subplots()\n",
    "        ax.imshow(image)\n",
    "\n",
    "        return fig\n",
    "\n",
    "aco_imgs = ACOImageDataset(str(ROOT_DIR))\n",
    "print(aco_imgs)"
   ]
  },
  {
   "cell_type": "code",
   "execution_count": null,
   "id": "5439dde2-c602-4dd9-82a6-f67917db2942",
   "metadata": {
    "ExecuteTime": {
     "start_time": "2024-01-19T17:57:09.524733200Z"
    }
   },
   "outputs": [],
   "source": [
    "class ACOLabelDataset(RasterDataset):\n",
    "    filename_glob = \"**/label.tif\"\n",
    "    is_image = False\n",
    "    separate_files = False\n",
    "    all_bands = [1]\n",
    "\n",
    "    def plot(self, sample):\n",
    "        # Find the correct band index order\n",
    "        rgb_indices = []\n",
    "        for band in self.rgb_bands:\n",
    "            rgb_indices.append(self.all_bands.index(band))\n",
    "\n",
    "        # Reorder and rescale the image\n",
    "        image = sample[\"image\"][rgb_indices].permute(1, 2, 0)\n",
    "        image = torch.clamp(image / 255., min=0, max=1).numpy()\n",
    "\n",
    "        # Plot the image\n",
    "        fig, ax = plt.subplots()\n",
    "        ax.imshow(image)\n",
    "\n",
    "        return fig\n",
    "\n",
    "aco_labels = ACOImageDataset(str(ROOT_DIR))\n",
    "print(aco_labels)"
   ]
  },
  {
   "cell_type": "code",
   "execution_count": null,
   "id": "0d08919b-4d6c-4000-8dbd-5d19af2ac49a",
   "metadata": {
    "ExecuteTime": {
     "start_time": "2024-01-19T17:57:09.524733200Z"
    }
   },
   "outputs": [],
   "source": [
    "# torch.manual_seed(1)\n",
    "\n",
    "BATCH_SIZE = 3\n",
    "TILE_SIZE = 4096\n",
    "EPOCHS = 10\n",
    "\n",
    "dataset = aco_imgs\n",
    "sampler = RandomBatchGeoSampler(dataset, size=TILE_SIZE, batch_size=BATCH_SIZE, length=EPOCHS)\n",
    "dataloader = DataLoader(dataset, batch_sampler=sampler, collate_fn=stack_samples)\n",
    "\n",
    "for batch in dataloader:\n",
    "    for sample in unbind_samples(batch):\n",
    "        dataset.plot(sample)\n",
    "        plt.axis(\"off\")\n",
    "        plt.show()"
   ]
  },
  {
   "cell_type": "code",
   "execution_count": null,
   "id": "633fbfcc-06b1-4391-82ad-25ca6f4e924f",
   "metadata": {
    "ExecuteTime": {
     "start_time": "2024-01-19T17:57:09.524733200Z"
    }
   },
   "outputs": [],
   "source": [
    "len(sampler)"
   ]
  },
  {
   "cell_type": "code",
   "execution_count": null,
   "id": "cd3fe3cc-41c5-4ed2-b106-6a3ad9cffb7b",
   "metadata": {
    "ExecuteTime": {
     "start_time": "2024-01-19T17:57:09.524733200Z"
    }
   },
   "outputs": [],
   "source": [
    "class AccedingSequenceLengthSampler(Sampler[int]):\n",
    "    def __init__(self, data: List[str]) -> None:\n",
    "        self.data = data\n",
    "    def __len__(self) -> int:\n",
    "        return len(self.data)\n",
    "    def __iter__(self) -> Iterator[int]:\n",
    "        sizes = torch.tensor([len(x) for x in self.data])\n",
    "        yield from torch.argsort(sizes).tolist()\n",
    "        \n",
    "class AccedingSequenceLengthBatchSampler(Sampler[List[int]]):\n",
    "    def __init__(self, data: List[str], batch_size: int) -> None:\n",
    "        self.data = data\n",
    "        self.batch_size = batch_size\n",
    "    def __len__(self) -> int:\n",
    "        return (len(self.data) + self.batch_size - 1) // self.batch_size\n",
    "    def __iter__(self) -> Iterator[List[int]]:\n",
    "        sizes = torch.tensor([len(x) for x in self.data])\n",
    "        for batch in torch.chunk(torch.argsort(sizes), len(self)):\n",
    "            yield batch.tolist()"
   ]
  },
  {
   "cell_type": "code",
   "execution_count": null,
   "id": "b98929d7-42e0-4caa-8d47-36e400418bfb",
   "metadata": {
    "ExecuteTime": {
     "start_time": "2024-01-19T17:57:09.524733200Z"
    }
   },
   "outputs": [],
   "source": [
    "from torch.utils.data import Sampler\n",
    "import random\n",
    "from shapely.affinity import affine_transform\n",
    "from shapely.geometry import Point, Polygon, MultiPolygon\n",
    "from shapely.ops import triangulate\n",
    "from typing import Union, List, Iterator\n",
    "from torchgeo.samplers import GeoSampler\n",
    "from torchgeo.samplers.constants import Units\n",
    "\n",
    "class RandomMultiPolygonGeoSampler(Sampler[BoundingBox]):\n",
    "    def __init__(\n",
    "        self, \n",
    "        dataset: GeoDataset, \n",
    "        size: Union[tuple[float, float], float], \n",
    "        length: int, \n",
    "        roi=Union[Polygon, List[Polygon], MultiPolygon],\n",
    "        units=Units.PIXELS,\n",
    "    ) -> None:\n",
    "         \"\"\"Initialize a new Sampler instance.\n",
    "\n",
    "        The ``size`` argument can either be:\n",
    "\n",
    "        * a single ``float`` - in which case the same value is used for the height and\n",
    "          width dimension\n",
    "        * a ``tuple`` of two floats - in which case, the first *float* is used for the\n",
    "          height dimension, and the second *float* for the width dimension\n",
    "\n",
    "        .. versionchanged:: 0.3\n",
    "           Added ``units`` parameter, changed default to pixel units\n",
    "\n",
    "        .. versionchanged:: 0.4\n",
    "           ``length`` parameter is now optional, a reasonable default will be used\n",
    "\n",
    "        Args:\n",
    "            dataset: dataset to index from\n",
    "            size: dimensions of each :term:`patch`\n",
    "            length: number of random samples to draw per epoch\n",
    "            roi: region of interest to sample from\n",
    "            units: defines if ``size`` is in pixel or CRS units\n",
    "        \"\"\"\n",
    "        self.dataset = dataset\n",
    "        self.size = size\n",
    "        self.length = length\n",
    "        \n",
    "        self._areas = []\n",
    "        self._transforms = []\n",
    "\n",
    "        # TODO: Handle other roi datatypes\n",
    "        if isinstance(roi, list):\n",
    "            polygons = roi\n",
    "        elif isinstance(roi, Polygon):\n",
    "            polygons = [roi]\n",
    "        elif isinstance(roi, MultiPolygon):\n",
    "            polygons = list(roi.geoms)\n",
    "        else:\n",
    "            raise ValueError(\"Type of ROI must be Polygon, List[Polygon], or MultiPolygon\")\n",
    "            \n",
    "        for polygon in polygons:\n",
    "            assert isinstance(polygon, Polygon), \"Non-polygon types can not be used as an ROI\"\n",
    "            \n",
    "            for t in triangulate(polygon):\n",
    "                self._areas.append(t.area)\n",
    "                (x0, y0), (x1, y1), (x2, y2), _ = t.exterior.coords\n",
    "                self._transforms.append([x1 - x0, x2 - x0, y2 - y0, y1 - y0, x0, y0])\n",
    "    \n",
    "    def __len__(self):\n",
    "        return self.length\n",
    "    \n",
    "    def __iter__(self) -> Iterator[BoundingBox]:\n",
    "        \"\"\"Return the index of a dataset.\n",
    "\n",
    "        Returns:\n",
    "            (minx, maxx, miny, maxy, mint, maxt) coordinates to index a dataset\n",
    "        \"\"\"\n",
    "        for transform in random.choices(self._transforms, weights=self._areas, k=self.length):\n",
    "            x, y = [random.random() for _ in range(2)]\n",
    "            if x + y > 1:\n",
    "                p = Point(1 - x, 1 - y)\n",
    "            else:\n",
    "                p = Point(x, y)\n",
    "            point = affine_transform(p, transform)\n",
    "            \n",
    "            # TODO: Get tile with point contained\n",
    "            # Get a bounding box where point is the center\n",
    "            \n",
    "            tile = point\n",
    "            return tile\n"
   ]
  },
  {
   "cell_type": "code",
   "execution_count": null,
   "id": "6d255133-92e4-4a2e-b16b-3209e0797b54",
   "metadata": {},
   "outputs": [],
   "source": []
  }
 ],
 "metadata": {
  "kernelspec": {
   "display_name": "Python 3 (ipykernel)",
   "language": "python",
   "name": "python3"
  },
  "language_info": {
   "codemirror_mode": {
    "name": "ipython",
    "version": 3
   },
   "file_extension": ".py",
   "mimetype": "text/x-python",
   "name": "python",
   "nbconvert_exporter": "python",
   "pygments_lexer": "ipython3",
   "version": "3.11.6"
  }
 },
 "nbformat": 4,
 "nbformat_minor": 5
}
