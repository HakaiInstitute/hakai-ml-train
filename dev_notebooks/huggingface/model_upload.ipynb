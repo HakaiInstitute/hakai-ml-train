{
 "cells": [
  {
   "cell_type": "code",
   "id": "initial_id",
   "metadata": {
    "collapsed": true,
    "ExecuteTime": {
     "end_time": "2024-04-29T17:57:50.563758Z",
     "start_time": "2024-04-29T17:57:47.872285Z"
    }
   },
   "source": [
    "from pathlib import Path\n",
    "import os\n",
    "\n",
    "import wandb\n",
    "from huggingface_hub import notebook_login\n",
    "import torch\n",
    "\n",
    "from train.model import SegmentationModel\n",
    "from train.config import (\n",
    "    kelp_pa_efficientnet_b4_config_rgbi,\n",
    "    kelp_sp_efficientnet_b4_config_rgbi,\n",
    ")"
   ],
   "outputs": [],
   "execution_count": 1
  },
  {
   "metadata": {
    "ExecuteTime": {
     "end_time": "2024-04-29T17:57:50.622653Z",
     "start_time": "2024-04-29T17:57:50.564386Z"
    }
   },
   "cell_type": "code",
   "source": "DEVICE= \"cuda\" if torch.cuda.is_available() else \"cpu\"",
   "id": "9923ab26dc654ece",
   "outputs": [],
   "execution_count": 2
  },
  {
   "metadata": {
    "ExecuteTime": {
     "end_time": "2024-04-29T17:57:50.629316Z",
     "start_time": "2024-04-29T17:57:50.623328Z"
    }
   },
   "cell_type": "code",
   "source": "notebook_login()",
   "id": "8561c955aa603f2c",
   "outputs": [
    {
     "data": {
      "text/plain": [
       "VBox(children=(HTML(value='<center> <img\\nsrc=https://huggingface.co/front/assets/huggingface_logo-noborder.sv…"
      ],
      "application/vnd.jupyter.widget-view+json": {
       "version_major": 2,
       "version_minor": 0,
       "model_id": "c073d142e7254f308d557c3ce172105c"
      }
     },
     "metadata": {},
     "output_type": "display_data"
    }
   ],
   "execution_count": 3
  },
  {
   "metadata": {
    "ExecuteTime": {
     "end_time": "2024-04-29T17:57:50.677128Z",
     "start_time": "2024-04-29T17:57:50.629715Z"
    }
   },
   "cell_type": "code",
   "source": [
    "def push(checkpoint_url, config, hub_model_name):\n",
    "    api = wandb.Api()\n",
    "    artifact = api.artifact(checkpoint_url, type=\"model\")\n",
    "    artifact_dir = artifact.download()\n",
    "    ckpt_file = Path(artifact_dir) / \"model.ckpt\"\n",
    "\n",
    "    model = SegmentationModel.load_from_checkpoint(ckpt_file, **dict(config))\n",
    "\n",
    "    model.push_to_hub(hub_model_name)"
   ],
   "id": "b8725814c0c78be9",
   "outputs": [],
   "execution_count": 4
  },
  {
   "metadata": {},
   "cell_type": "markdown",
   "source": "# Kelp Presence",
   "id": "baebb0f51c126d05"
  },
  {
   "metadata": {
    "ExecuteTime": {
     "end_time": "2024-04-29T17:57:58.031207Z",
     "start_time": "2024-04-29T17:57:50.677861Z"
    }
   },
   "cell_type": "code",
   "source": [
    "checkpoint_url = \"hakai/kom-kelp-pa-aco-rgbi/model-1kzli3zn:v0\"\n",
    "hub_model_name = \"hakaiinstitute/unetplusplus-efficientnetb4-rgbi-kelp-presence-1024-1024\"\n",
    "push(checkpoint_url, kelp_pa_efficientnet_b4_config_rgbi, hub_model_name)"
   ],
   "id": "26f263a0ce3e370b",
   "outputs": [
    {
     "name": "stderr",
     "output_type": "stream",
     "text": [
      "Failed to detect the name of this notebook, you can set it manually with the WANDB_NOTEBOOK_NAME environment variable to enable code saving.\n",
      "\u001B[34m\u001B[1mwandb\u001B[0m: Downloading large artifact model-1kzli3zn:v0, 311.49MB. 1 files... \n",
      "\u001B[34m\u001B[1mwandb\u001B[0m:   1 of 1 files downloaded.  \n",
      "Done. 0:0:0.4\n",
      "wandb: WARNING Source type is set to 'repo' but some required information is missing from the environment. A job will not be created from this run. See https://docs.wandb.ai/guides/launch/create-job\n"
     ]
    }
   ],
   "execution_count": 5
  },
  {
   "metadata": {},
   "cell_type": "markdown",
   "source": "# Kelp Species",
   "id": "bf41b626a5115345"
  },
  {
   "metadata": {
    "ExecuteTime": {
     "end_time": "2024-04-29T17:58:04.417454Z",
     "start_time": "2024-04-29T17:57:58.031912Z"
    }
   },
   "cell_type": "code",
   "source": [
    "checkpoint_url = \"hakai/kom-kelp-sp-aco-rgbi/model-nysalr7l:v0\"\n",
    "hub_model_name = \"hakaiinstitute/unetplusplus-efficientnetb4-rgbi-kelp-species-1024-1024\"\n",
    "push(checkpoint_url, kelp_sp_efficientnet_b4_config_rgbi, hub_model_name)"
   ],
   "id": "c19d2a220a2bffc7",
   "outputs": [
    {
     "name": "stderr",
     "output_type": "stream",
     "text": [
      "\u001B[34m\u001B[1mwandb\u001B[0m: Downloading large artifact model-nysalr7l:v0, 311.50MB. 1 files... \n",
      "\u001B[34m\u001B[1mwandb\u001B[0m:   1 of 1 files downloaded.  \n",
      "Done. 0:0:0.5\n",
      "wandb: WARNING Source type is set to 'repo' but some required information is missing from the environment. A job will not be created from this run. See https://docs.wandb.ai/guides/launch/create-job\n"
     ]
    }
   ],
   "execution_count": 6
  },
  {
   "metadata": {
    "ExecuteTime": {
     "end_time": "2024-04-29T17:58:04.419884Z",
     "start_time": "2024-04-29T17:58:04.418320Z"
    }
   },
   "cell_type": "code",
   "source": "",
   "id": "1678d53fb497c8c",
   "outputs": [],
   "execution_count": 6
  }
 ],
 "metadata": {
  "kernelspec": {
   "display_name": "Python 3",
   "language": "python",
   "name": "python3"
  },
  "language_info": {
   "codemirror_mode": {
    "name": "ipython",
    "version": 2
   },
   "file_extension": ".py",
   "mimetype": "text/x-python",
   "name": "python",
   "nbconvert_exporter": "python",
   "pygments_lexer": "ipython2",
   "version": "2.7.6"
  }
 },
 "nbformat": 4,
 "nbformat_minor": 5
}
