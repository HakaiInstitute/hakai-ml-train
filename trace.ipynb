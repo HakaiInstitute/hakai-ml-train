{
 "cells": [
  {
   "cell_type": "code",
   "execution_count": 4,
   "id": "aff1fa5f",
   "metadata": {},
   "outputs": [],
   "source": [
    "import torch\n",
    "DEVICE = torch.device('cuda')"
   ]
  },
  {
   "cell_type": "code",
   "execution_count": 5,
   "id": "1fc84971",
   "metadata": {},
   "outputs": [],
   "source": [
    "from models.deeplabv3_resnet101 import DeepLabv3ResNet101\n",
    "from models.lraspp_mobilenet_v3_large import LRASPPMobileNetV3Large"
   ]
  },
  {
   "cell_type": "code",
   "execution_count": 6,
   "id": "d58adf56",
   "metadata": {},
   "outputs": [],
   "source": [
    "pt = \"scripts/presence/train_output/best-val_miou=0.9393-epoch=97-step=34789.pt\"\n",
    "model = DeepLabv3ResNet101({\n",
    "    \"aux_loss_factor\": 0.3,\n",
    "    \"weight_decay\": 0.001,\n",
    "    \"lr\": 0.001,\n",
    "    \"unfreeze_backbone_epoch\": 100,\n",
    "    \"num_classes\": 2,\n",
    "    \"train_backbone_bn\": False\n",
    "    })\n",
    "model.load_state_dict(torch.load(pt))\n",
    "model = model.eval()\n",
    "model = model.to(DEVICE)"
   ]
  },
  {
   "cell_type": "code",
   "execution_count": null,
   "id": "fe47b3fa",
   "metadata": {},
   "outputs": [],
   "source": [
    "x = torch.rand(1, 3, 8, 8, device=DEVICE)\n",
    "traced_model = torch.jit.trace(model, x)"
   ]
  },
  {
   "cell_type": "code",
   "execution_count": null,
   "id": "2d5e008f",
   "metadata": {},
   "outputs": [],
   "source": [
    "traced_model.save(\"torchscript_files/DeepLabV3_ResNet101_kelp_presence_jit.pt\")"
   ]
  },
  {
   "cell_type": "code",
   "execution_count": null,
   "outputs": [],
   "source": [
    "pt = \"scripts/species/train_output/checkpoints/L_RASPP_MobileNetV3/version_0/checkpoints/best-val_miou=0.8945-epoch=198-step=58107.pt\"\n",
    "model = LRASPPMobileNetV3Large({\n",
    "    \"weight_decay\": 0.001,\n",
    "    \"lr\": 0.001,\n",
    "    \"num_classes\": 3,\n",
    "})\n",
    "model.load_state_dict(torch.load(pt))\n",
    "model = model.eval()\n",
    "model = model.to(DEVICE)"
   ],
   "metadata": {
    "collapsed": false,
    "pycharm": {
     "name": "#%%\n"
    }
   }
  },
  {
   "cell_type": "code",
   "execution_count": null,
   "outputs": [],
   "source": [
    "x = torch.rand(1, 3, 8, 8, device=DEVICE)\n",
    "traced_model = torch.jit.trace(model, x)"
   ],
   "metadata": {
    "collapsed": false,
    "pycharm": {
     "name": "#%%\n"
    }
   }
  },
  {
   "cell_type": "code",
   "execution_count": null,
   "outputs": [],
   "source": [
    "traced_model.save(\"torchscript_files/LRASPP_MobileNetV3_kelp_species_jit.pt\")"
   ],
   "metadata": {
    "collapsed": false,
    "pycharm": {
     "name": "#%%\n"
    }
   }
  }
 ],
 "metadata": {
  "kernelspec": {
   "display_name": "Python 3",
   "language": "python",
   "name": "python3"
  },
  "language_info": {
   "codemirror_mode": {
    "name": "ipython",
    "version": 3
   },
   "file_extension": ".py",
   "mimetype": "text/x-python",
   "name": "python",
   "nbconvert_exporter": "python",
   "pygments_lexer": "ipython3",
   "version": "3.8.10"
  }
 },
 "nbformat": 4,
 "nbformat_minor": 5
}