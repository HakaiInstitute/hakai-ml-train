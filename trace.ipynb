{
 "cells": [
  {
   "cell_type": "code",
   "execution_count": 1,
   "id": "aff1fa5f",
   "metadata": {},
   "outputs": [],
   "source": [
    "import torch"
   ]
  },
  {
   "cell_type": "code",
   "execution_count": 2,
   "id": "1fc84971",
   "metadata": {},
   "outputs": [],
   "source": [
    "from models.deeplabv3_resnet101 import DeepLabv3ResNet101"
   ]
  },
  {
   "cell_type": "code",
   "execution_count": 7,
   "id": "d58adf56",
   "metadata": {},
   "outputs": [
    {
     "data": {
      "text/plain": [
       "<All keys matched successfully>"
      ]
     },
     "execution_count": 7,
     "metadata": {},
     "output_type": "execute_result"
    }
   ],
   "source": [
    "pt = \"scripts/species/train_input/data/best-val_miou=0.9393-epoch=97-step=34789.pt\"\n",
    "model = DeepLabv3ResNet101({\n",
    "    \"aux_loss_factor\": 0.3,\n",
    "    \"weight_decay\": 0.001,\n",
    "    \"lr\": 0.001,\n",
    "    \"unfreeze_backbone_epoch\": 100,\n",
    "    \"num_classes\": 2,\n",
    "    \"train_backbone_bn\": False\n",
    "    })\n",
    "model.load_state_dict(torch.load(pt))\n",
    "model = model.eval()"
   ]
  },
  {
   "cell_type": "code",
   "execution_count": null,
   "id": "fe47b3fa",
   "metadata": {},
   "outputs": [],
   "source": [
    "x = torch.rand(2, 3, 512, 512)\n",
    "\n",
    "traced_model = torch.jit.trace(model, x)"
   ]
  },
  {
   "cell_type": "code",
   "execution_count": null,
   "id": "2d5e008f",
   "metadata": {},
   "outputs": [],
   "source": []
  }
 ],
 "metadata": {
  "kernelspec": {
   "display_name": "Python 3",
   "language": "python",
   "name": "python3"
  },
  "language_info": {
   "codemirror_mode": {
    "name": "ipython",
    "version": 3
   },
   "file_extension": ".py",
   "mimetype": "text/x-python",
   "name": "python",
   "nbconvert_exporter": "python",
   "pygments_lexer": "ipython3",
   "version": "3.8.10"
  }
 },
 "nbformat": 4,
 "nbformat_minor": 5
}
