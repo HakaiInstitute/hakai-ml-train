{
 "cells": [
  {
   "cell_type": "code",
   "execution_count": 50,
   "outputs": [],
   "source": [
    "import pickle\n",
    "import os\n",
    "import torch\n",
    "\n",
    "from lit_lraspp_mobilenet_v3_large import LRASPPMobileNetV3Large"
   ],
   "metadata": {
    "collapsed": false,
    "pycharm": {
     "name": "#%%\n"
    }
   }
  },
  {
   "cell_type": "code",
   "execution_count": 51,
   "outputs": [
    {
     "ename": "FileNotFoundError",
     "evalue": "[Errno 2] No such file or directory: '/home/taylor/PycharmProjects/hakai-ml-train/checkpoints/kelp_pa_aco/analysis.pkl'",
     "output_type": "error",
     "traceback": [
      "\u001B[0;31m---------------------------------------------------------------------------\u001B[0m",
      "\u001B[0;31mFileNotFoundError\u001B[0m                         Traceback (most recent call last)",
      "Input \u001B[0;32mIn [51]\u001B[0m, in \u001B[0;36m<cell line: 1>\u001B[0;34m()\u001B[0m\n\u001B[0;32m----> 1\u001B[0m \u001B[38;5;28;01mwith\u001B[39;00m \u001B[38;5;28;43mopen\u001B[39;49m\u001B[43m(\u001B[49m\u001B[38;5;124;43m\"\u001B[39;49m\u001B[38;5;124;43m/home/taylor/PycharmProjects/hakai-ml-train/checkpoints/kelp_pa_aco/analysis.pkl\u001B[39;49m\u001B[38;5;124;43m\"\u001B[39;49m\u001B[43m,\u001B[49m\u001B[43m \u001B[49m\u001B[38;5;124;43m\"\u001B[39;49m\u001B[38;5;124;43mrb\u001B[39;49m\u001B[38;5;124;43m\"\u001B[39;49m\u001B[43m)\u001B[49m \u001B[38;5;28;01mas\u001B[39;00m f:\n\u001B[1;32m      2\u001B[0m     analysis \u001B[38;5;241m=\u001B[39m pickle\u001B[38;5;241m.\u001B[39mload(f)\n\u001B[1;32m      5\u001B[0m checkpoint_path \u001B[38;5;241m=\u001B[39m os\u001B[38;5;241m.\u001B[39mpath\u001B[38;5;241m.\u001B[39mjoin(analysis\u001B[38;5;241m.\u001B[39mbest_checkpoint\u001B[38;5;241m.\u001B[39mlocal_path, \u001B[38;5;124m\"\u001B[39m\u001B[38;5;124mcheckpoint\u001B[39m\u001B[38;5;124m\"\u001B[39m)\n",
      "\u001B[0;31mFileNotFoundError\u001B[0m: [Errno 2] No such file or directory: '/home/taylor/PycharmProjects/hakai-ml-train/checkpoints/kelp_pa_aco/analysis.pkl'"
     ]
    }
   ],
   "source": [
    "with open(\"/home/taylor/PycharmProjects/hakai-ml-train/checkpoints/kelp_pa_aco/analysis.pkl\", \"rb\") as f:\n",
    "    analysis = pickle.load(f)\n",
    "\n",
    "\n",
    "checkpoint_path = os.path.join(analysis.best_checkpoint.local_path, \"checkpoint\")\n",
    "cp = torch.load(checkpoint_path)\n"
   ],
   "metadata": {
    "collapsed": false,
    "pycharm": {
     "name": "#%%\n"
    }
   }
  },
  {
   "cell_type": "code",
   "execution_count": 40,
   "outputs": [],
   "source": [
    "model = LRASPPMobileNetV3Large.load_from_checkpoint(checkpoint_path, train=False, map_location=torch.device('cpu'), strict=False)\n",
    "torch.save"
   ],
   "metadata": {
    "collapsed": false,
    "pycharm": {
     "name": "#%%\n"
    }
   }
  },
  {
   "cell_type": "code",
   "execution_count": 48,
   "outputs": [
    {
     "data": {
      "text/plain": "<All keys matched successfully>"
     },
     "execution_count": 48,
     "metadata": {},
     "output_type": "execute_result"
    }
   ],
   "source": [
    "model = LRASPPMobileNetV3Large()\n",
    "model.load_state_dict(torch.load('/home/taylor/PycharmProjects/hakai-ml-train/checkpoints/kelp_pa_aco/best-miou=0.pt'))"
   ],
   "metadata": {
    "collapsed": false,
    "pycharm": {
     "name": "#%%\n"
    }
   }
  },
  {
   "cell_type": "code",
   "execution_count": 47,
   "outputs": [
    {
     "data": {
      "text/plain": "              loss      miou  accuracy  precision    recall  cls0_iou  \\\ntrial_id                                                                \n189f13e4  1.396262  0.496709  0.954818   0.983913  0.954818  0.954718   \n\n          cls1_iou  time_this_iter_s  should_checkpoint  done  ...     pid  \\\ntrial_id                                                       ...           \n189f13e4  0.038701           3.27039               True  True  ...  232583   \n\n          hostname    node_ip time_since_restore timesteps_since_restore  \\\ntrial_id                                                                   \n189f13e4  calculon  10.0.0.55          10.542032                       0   \n\n          iterations_since_restore  warmup_time        experiment_tag  \\\ntrial_id                                                                \n189f13e4                         2     0.002087  2_alpha=0.5,lr=0.001   \n\n         config.alpha config.lr  \ntrial_id                         \n189f13e4          0.5     0.001  \n\n[1 rows x 27 columns]",
      "text/html": "<div>\n<style scoped>\n    .dataframe tbody tr th:only-of-type {\n        vertical-align: middle;\n    }\n\n    .dataframe tbody tr th {\n        vertical-align: top;\n    }\n\n    .dataframe thead th {\n        text-align: right;\n    }\n</style>\n<table border=\"1\" class=\"dataframe\">\n  <thead>\n    <tr style=\"text-align: right;\">\n      <th></th>\n      <th>loss</th>\n      <th>miou</th>\n      <th>accuracy</th>\n      <th>precision</th>\n      <th>recall</th>\n      <th>cls0_iou</th>\n      <th>cls1_iou</th>\n      <th>time_this_iter_s</th>\n      <th>should_checkpoint</th>\n      <th>done</th>\n      <th>...</th>\n      <th>pid</th>\n      <th>hostname</th>\n      <th>node_ip</th>\n      <th>time_since_restore</th>\n      <th>timesteps_since_restore</th>\n      <th>iterations_since_restore</th>\n      <th>warmup_time</th>\n      <th>experiment_tag</th>\n      <th>config.alpha</th>\n      <th>config.lr</th>\n    </tr>\n    <tr>\n      <th>trial_id</th>\n      <th></th>\n      <th></th>\n      <th></th>\n      <th></th>\n      <th></th>\n      <th></th>\n      <th></th>\n      <th></th>\n      <th></th>\n      <th></th>\n      <th></th>\n      <th></th>\n      <th></th>\n      <th></th>\n      <th></th>\n      <th></th>\n      <th></th>\n      <th></th>\n      <th></th>\n      <th></th>\n      <th></th>\n    </tr>\n  </thead>\n  <tbody>\n    <tr>\n      <th>189f13e4</th>\n      <td>1.396262</td>\n      <td>0.496709</td>\n      <td>0.954818</td>\n      <td>0.983913</td>\n      <td>0.954818</td>\n      <td>0.954718</td>\n      <td>0.038701</td>\n      <td>3.27039</td>\n      <td>True</td>\n      <td>True</td>\n      <td>...</td>\n      <td>232583</td>\n      <td>calculon</td>\n      <td>10.0.0.55</td>\n      <td>10.542032</td>\n      <td>0</td>\n      <td>2</td>\n      <td>0.002087</td>\n      <td>2_alpha=0.5,lr=0.001</td>\n      <td>0.5</td>\n      <td>0.001</td>\n    </tr>\n  </tbody>\n</table>\n<p>1 rows × 27 columns</p>\n</div>"
     },
     "execution_count": 47,
     "metadata": {},
     "output_type": "execute_result"
    }
   ],
   "source": [
    "analysis.best_result_df"
   ],
   "metadata": {
    "collapsed": false,
    "pycharm": {
     "name": "#%%\n"
    }
   }
  },
  {
   "cell_type": "code",
   "execution_count": null,
   "outputs": [],
   "source": [],
   "metadata": {
    "collapsed": false,
    "pycharm": {
     "name": "#%%\n"
    }
   }
  }
 ],
 "metadata": {
  "kernelspec": {
   "display_name": "Python 3",
   "language": "python",
   "name": "python3"
  },
  "language_info": {
   "codemirror_mode": {
    "name": "ipython",
    "version": 2
   },
   "file_extension": ".py",
   "mimetype": "text/x-python",
   "name": "python",
   "nbconvert_exporter": "python",
   "pygments_lexer": "ipython2",
   "version": "2.7.6"
  }
 },
 "nbformat": 4,
 "nbformat_minor": 0
}