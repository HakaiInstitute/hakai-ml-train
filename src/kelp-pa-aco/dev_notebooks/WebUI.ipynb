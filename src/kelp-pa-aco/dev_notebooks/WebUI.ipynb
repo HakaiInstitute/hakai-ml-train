{
 "cells": [
  {
   "cell_type": "code",
   "execution_count": 1,
   "id": "56dcc80a-08a8-4c6e-ae5d-509b3efef90b",
   "metadata": {},
   "outputs": [],
   "source": [
    "# %%bash\n",
    "# mamba install -c conda-forge gradio"
   ]
  },
  {
   "cell_type": "code",
   "execution_count": 2,
   "id": "8769c04c-8127-4246-b062-bce6b31748d7",
   "metadata": {},
   "outputs": [],
   "source": [
    "import gradio as gr"
   ]
  },
  {
   "cell_type": "code",
   "execution_count": 3,
   "id": "5f00f767-6ef1-4ab4-9483-5245343f7612",
   "metadata": {},
   "outputs": [
    {
     "name": "stdout",
     "output_type": "stream",
     "text": [
      "Running on local URL:  http://10.8.1.28:7860\n",
      "\n",
      "To create a public link, set `share=True` in `launch()`.\n"
     ]
    },
    {
     "data": {
      "text/html": [
       "<div><iframe src=\"http://10.8.1.28:7860/\" width=\"100%\" height=\"500\" allow=\"autoplay; camera; microphone; clipboard-read; clipboard-write;\" frameborder=\"0\" allowfullscreen></iframe></div>"
      ],
      "text/plain": [
       "<IPython.core.display.HTML object>"
      ]
     },
     "metadata": {},
     "output_type": "display_data"
    },
    {
     "data": {
      "text/plain": []
     },
     "execution_count": 3,
     "metadata": {},
     "output_type": "execute_result"
    }
   ],
   "source": [
    "import gradio as gr\n",
    "import time\n",
    "def my_function(x, progress=gr.Progress()):\n",
    "    progress(0, desc=\"Starting...\")\n",
    "    time.sleep(1)\n",
    "    for i in progress.tqdm(range(100)):\n",
    "        time.sleep(0.1)\n",
    "    return x\n",
    "gr.Interface(my_function, gr.Textbox(), gr.Textbox()).queue().launch(show_api=False, server_name=\"10.8.1.28\")"
   ]
  },
  {
   "cell_type": "code",
   "execution_count": null,
   "id": "eb13c307-b67f-41f2-bb9c-c897958ea753",
   "metadata": {},
   "outputs": [],
   "source": []
  }
 ],
 "metadata": {
  "kernelspec": {
   "display_name": "Python 3 (ipykernel)",
   "language": "python",
   "name": "python3"
  },
  "language_info": {
   "codemirror_mode": {
    "name": "ipython",
    "version": 3
   },
   "file_extension": ".py",
   "mimetype": "text/x-python",
   "name": "python",
   "nbconvert_exporter": "python",
   "pygments_lexer": "ipython3",
   "version": "3.11.6"
  }
 },
 "nbformat": 4,
 "nbformat_minor": 5
}
