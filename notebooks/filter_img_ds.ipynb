{
 "cells": [
  {
   "cell_type": "code",
   "execution_count": 11,
   "metadata": {
    "pycharm": {
     "is_executing": false
    }
   },
   "outputs": [],
   "source": [
    "import os\n",
    "from pathlib import Path\n",
    "from PIL import Image\n",
    "import matplotlib.pyplot as plt\n",
    "from tqdm.auto import tqdm\n",
    "%matplotlib inline\n",
    "\n",
    "dataset = '../data/datasets/Calvert_WestBeach_2016/'\n",
    "\n",
    "imgs_dir = Path(dataset).joinpath(\"x\")\n",
    "labels_dir = Path(dataset).joinpath(\"y\")\n",
    "\n",
    "imgs = list(imgs_dir.glob(\"*.png\"))"
   ]
  },
  {
   "cell_type": "code",
   "execution_count": 12,
   "metadata": {},
   "outputs": [
    {
     "name": "stdout",
     "output_type": "stream",
     "text": [
      "12392\n"
     ]
    }
   ],
   "source": [
    "print(len(list(imgs)))"
   ]
  },
  {
   "cell_type": "code",
   "execution_count": 13,
   "metadata": {
    "pycharm": {
     "is_executing": false,
     "name": "#%%\n"
    }
   },
   "outputs": [
    {
     "data": {
      "application/vnd.jupyter.widget-view+json": {
       "model_id": "15be74b4d26345bc89a3b9664d8a6b68",
       "version_major": 2,
       "version_minor": 0
      },
      "text/plain": [
       "HBox(children=(IntProgress(value=0, max=12392), HTML(value='')))"
      ]
     },
     "metadata": {},
     "output_type": "display_data"
    },
    {
     "name": "stdout",
     "output_type": "stream",
     "text": [
      "\n"
     ]
    }
   ],
   "source": [
    "for img_path in tqdm(imgs, total=len(imgs)):\n",
    "    img = Image.open(img_path)\n",
    "    if img.getbbox() is None:\n",
    "        # Delete label files\n",
    "        try:\n",
    "            labels_dir.joinpath(img_path.name).unlink()\n",
    "            labels_dir.joinpath(img_path.with_suffix(\".png.aux.xml\").name).unlink()\n",
    "        except Exception as e:\n",
    "            print(e)\n",
    "        # Delete img files\n",
    "        imgs_dir.joinpath(img_path.with_suffix(\".png.aux.xml\").name).unlink()\n",
    "        img_path.unlink()"
   ]
  },
  {
   "cell_type": "code",
   "execution_count": null,
   "metadata": {},
   "outputs": [],
   "source": []
  }
 ],
 "metadata": {
  "kernelspec": {
   "display_name": "Python 3",
   "language": "python",
   "name": "python3"
  },
  "language_info": {
   "codemirror_mode": {
    "name": "ipython",
    "version": 3
   },
   "file_extension": ".py",
   "mimetype": "text/x-python",
   "name": "python",
   "nbconvert_exporter": "python",
   "pygments_lexer": "ipython3",
   "version": "3.7.3"
  },
  "pycharm": {
   "stem_cell": {
    "cell_type": "raw",
    "metadata": {
     "collapsed": false
    },
    "source": []
   }
  }
 },
 "nbformat": 4,
 "nbformat_minor": 1
}
