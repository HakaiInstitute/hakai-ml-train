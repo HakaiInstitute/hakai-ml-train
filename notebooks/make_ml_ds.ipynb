{
 "cells": [
  {
   "cell_type": "code",
   "execution_count": 1,
   "outputs": [],
   "source": [
    "import os\n",
    "import geopandas as gpd\n",
    "from pathlib import Path\n",
    "from utils.kelp import get_label as get_kelp_label\n",
    "from utils.convert import shp2tiff\n",
    "from utils.image import slice_and_dice_image, clip_raster_with_shp_mask\n",
    "from utils.image import clip_raster_by_extent, get_raster_extent, get_raster_crs\n",
    "\n",
    "\n",
    "# Original Kelp shp file\n",
    "shp_f = Path('./data/NW_Calvert/2016/2016_Kelp_Extent_KH_May15_2017.shp')\n",
    "\n",
    "# Shp file mask to cut clip imagery with. Eliminates noisy data on boundaries\n",
    "mask_f = Path('./data/NW_Calvert/2016/Calvert_ChokedNorthBeach_2016_Mask.shp')\n",
    "\n",
    "# Source imagery file\n",
    "img_f = Path('./data/NW_Calvert/2016/20160803_Calvert_ChokedNorthBeach_georef_MOS_U0069.tif')\n",
    "\n",
    "# Change working directory to top-level project directory\n",
    "if os.getcwd().split('/')[-1] == 'notebooks':\n",
    "    os.chdir('..')"
   ],
   "metadata": {
    "collapsed": false,
    "pycharm": {
     "name": "#%% Load packages\n",
     "is_executing": false
    }
   }
  },
  {
   "cell_type": "code",
   "execution_count": 2,
   "outputs": [
    {
     "name": "stdout",
     "text": [
      "Adding label field to Kelp data..\n"
     ],
     "output_type": "stream"
    }
   ],
   "source": [
    "print(\"Adding label field to Kelp data..\")\n",
    "# Create and populate a new label attribute for shapefile class\n",
    "df = gpd.read_file(shp_f)\n",
    "labels = [get_kelp_label(row[\"Species\"], row[\"Density\"]) for _, row in df.iterrows()]\n",
    "df['label'] = labels\n",
    "df.to_file(shp_f)"
   ],
   "metadata": {
    "collapsed": false,
    "pycharm": {
     "name": "#%%\n",
     "is_executing": false
    }
   }
  },
  {
   "cell_type": "code",
   "execution_count": 3,
   "outputs": [
    {
     "name": "stdout",
     "text": [
      "Rasterizing Kelp shapefile...\n"
     ],
     "output_type": "stream"
    }
   ],
   "source": [
    "# Convert the kelp shapefile to a raster\n",
    "print(\"Rasterizing Kelp shapefile...\")\n",
    "kelp_f = Path('./data/NW_Calvert/2016/kelp.tif')\n",
    "shp2tiff(str(shp_f), str(kelp_f), str(img_f), label_attr=\"label\")"
   ],
   "metadata": {
    "collapsed": false,
    "pycharm": {
     "name": "#%%\n",
     "is_executing": false
    }
   }
  },
  {
   "cell_type": "code",
   "execution_count": 4,
   "outputs": [
    {
     "name": "stdout",
     "text": [
      "Clipping imagery raster to mask...\n"
     ],
     "output_type": "stream"
    }
   ],
   "source": [
    "# Crop the image using the mask\n",
    "print(\"Clipping imagery raster to mask...\")\n",
    "clipped_img_f = img_f.with_name(f\"{img_f.stem}_clipped.tif\")\n",
    "clip_raster_with_shp_mask(str(clipped_img_f), str(img_f), str(mask_f))"
   ],
   "metadata": {
    "collapsed": false,
    "pycharm": {
     "name": "#%%\n",
     "is_executing": false
    }
   }
  },
  {
   "cell_type": "code",
   "execution_count": 5,
   "outputs": [
    {
     "name": "stdout",
     "text": [
      "Clipping kelp raster to image extent...\n"
     ],
     "output_type": "stream"
    }
   ],
   "source": [
    "# Crop kelp raster to img extent\n",
    "print(\"Clipping kelp raster to image extent...\")\n",
    "clipped_kelp_f = kelp_f.with_name(f\"{kelp_f.stem}_clipped.tif\")\n",
    "extent = get_raster_extent(str(clipped_img_f))\n",
    "extentSRS = get_raster_crs(str(clipped_img_f))\n",
    "clip_raster_by_extent(str(clipped_kelp_f), str(kelp_f), extent=extent)"
   ],
   "metadata": {
    "collapsed": false,
    "pycharm": {
     "name": "#%%\n",
     "is_executing": false
    }
   }
  },
  {
   "cell_type": "code",
   "execution_count": null,
   "outputs": [
    {
     "data": {
      "text/plain": "HBox(children=(FloatProgress(value=0.0, max=25438.0), HTML(value='')))",
      "application/vnd.jupyter.widget-view+json": {
       "version_major": 2,
       "version_minor": 0,
       "model_id": "cd3bf16de6074a21860c285b0fa62d66"
      }
     },
     "metadata": {},
     "output_type": "display_data"
    },
    {
     "name": "stderr",
     "text": [
      "Process Process-19654:\n",
      "Process Process-19650:\n",
      "Process Process-19659:\n",
      "Process Process-19692:\n",
      "Process Process-19699:\n",
      "Process Process-19613:\n",
      "Process Process-19620:\n",
      "Process Process-19634:\n",
      "Process Process-19646:\n",
      "Process Process-19611:\n",
      "Process Process-19604:\n",
      "Process Process-19677:\n",
      "Process Process-19619:\n",
      "Process Process-19645:\n",
      "Process Process-19648:\n",
      "Process Process-19642:\n",
      "Process Process-19674:\n",
      "Process Process-19652:\n",
      "Process Process-19640:\n",
      "Process Process-19647:\n",
      "Process Process-19626:\n",
      "Process Process-19656:\n",
      "Process Process-19683:\n",
      "Process Process-19673:\n",
      "Process Process-19696:\n",
      "Process Process-19636:\n",
      "Process Process-19698:\n",
      "Process Process-19661:\n",
      "Process Process-19622:\n",
      "Process Process-19612:\n",
      "Process Process-19671:\n",
      "Process Process-19655:\n",
      "Process Process-19691:\n",
      "Process Process-19607:\n",
      "Process Process-19632:\n",
      "Process Process-19680:\n",
      "Process Process-19702:\n",
      "Process Process-19662:\n",
      "Process Process-19638:\n",
      "Process Process-19653:\n",
      "Process Process-19628:\n",
      "Process Process-19635:\n",
      "Process Process-19651:\n",
      "Process Process-19603:\n",
      "Process Process-19608:\n",
      "Process Process-19704:\n",
      "Process Process-19664:\n",
      "Process Process-19675:\n",
      "Process Process-19665:\n",
      "Process Process-19657:\n",
      "Process Process-19511:\n",
      "Process Process-19602:\n",
      "Process Process-19785:\n",
      "Process Process-19676:\n",
      "Process Process-19631:\n",
      "Process Process-19649:\n",
      "Process Process-19623:\n",
      "Process Process-19668:\n",
      "Process Process-19666:\n",
      "Process Process-19703:\n",
      "Process Process-19598:\n",
      "Process Process-19616:\n",
      "Process Process-19745:\n",
      "Process Process-19711:\n",
      "Process Process-19606:\n",
      "Process Process-19600:\n",
      "Process Process-19753:\n",
      "Process Process-19601:\n",
      "Process Process-19766:\n",
      "Process Process-19681:\n",
      "Process Process-19679:\n",
      "Process Process-19687:\n",
      "Process Process-19689:\n",
      "Process Process-19684:\n",
      "Process Process-19758:\n",
      "Process Process-19599:\n",
      "Process Process-19705:\n",
      "Process Process-19633:\n",
      "Process Process-19670:\n",
      "Process Process-19777:\n",
      "Process Process-19639:\n",
      "Process Process-19730:\n",
      "Process Process-19734:\n",
      "Process Process-19735:\n",
      "Process Process-19695:\n",
      "Process Process-19672:\n",
      "Process Process-19710:\n",
      "Process Process-19709:\n",
      "Traceback (most recent call last):\n",
      "Process Process-19685:\n",
      "Traceback (most recent call last):\n"
     ],
     "output_type": "stream"
    }
   ],
   "source": [
    "# Slice the image into fixed width and height sections\n",
    "# Outputs directory paths for cropped image datasets\n",
    "dest_d = Path('../data/calvert_choked_north_2016/')\n",
    "dest_x = dest_d.joinpath('x')\n",
    "dest_y = dest_d.joinpath('y')\n",
    "\n",
    "# Make the output directories if they don't exist\n",
    "dest_x.mkdir(parents=True, exist_ok=True)\n",
    "dest_y.mkdir(parents=True, exist_ok=True)\n",
    "\n",
    "slice_and_dice_image(str(clipped_img_f), str(clipped_kelp_f), str(dest_x), str(dest_y), crop_size=200)\n",
    "\n"
   ],
   "metadata": {
    "collapsed": false,
    "pycharm": {
     "name": "#%%\n",
     "is_executing": true
    }
   }
  }
 ],
 "metadata": {
  "kernelspec": {
   "display_name": "Python 3",
   "language": "python",
   "name": "python3"
  },
  "language_info": {
   "codemirror_mode": {
    "name": "ipython",
    "version": 2
   },
   "file_extension": ".py",
   "mimetype": "text/x-python",
   "name": "python",
   "nbconvert_exporter": "python",
   "pygments_lexer": "ipython2",
   "version": "2.7.6"
  },
  "pycharm": {
   "stem_cell": {
    "cell_type": "raw",
    "source": [],
    "metadata": {
     "collapsed": false
    }
   }
  }
 },
 "nbformat": 4,
 "nbformat_minor": 0
}