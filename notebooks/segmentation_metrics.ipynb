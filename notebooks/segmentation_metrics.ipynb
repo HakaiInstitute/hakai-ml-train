{
 "cells": [
  {
   "cell_type": "markdown",
   "metadata": {},
   "source": [
    "# Dead simple version"
   ]
  },
  {
   "cell_type": "code",
   "execution_count": 49,
   "metadata": {},
   "outputs": [
    {
     "data": {
      "text/plain": [
       "TestResults(failed=0, attempted=4)"
      ]
     },
     "execution_count": 49,
     "metadata": {},
     "output_type": "execute_result"
    }
   ],
   "source": [
    "import doctest\n",
    "import numpy as np\n",
    "from scipy.spatial.distance import jaccard\n",
    "\n",
    "\n",
    "def jaccard_index(labels, preds, num_classes=3):\n",
    "    \"\"\"\n",
    "    >>> jaccard_index(np.array([0,0,1,1,2,2]), np.array([0,0,1,1,2,2]))\n",
    "    [1.0, 1.0, 1.0]\n",
    "    \n",
    "    >>> jaccard_index(np.array([0,0,1,1,2,2]), np.array([2,2,0,0,1,1]))\n",
    "    [0.0, 0.0, 0.0]\n",
    "    \n",
    "    >>> jaccard_index(np.array([0,0,1,1,2,2]), np.array([0,0,1,0,1,1]))\n",
    "    [1.0, 0.5, 0.0]\n",
    "    \n",
    "    >>> jaccard_index(np.array([[0,0,1,1,2,2], [0,0,1,1,2,2]]), np.array([[0,0,1,0,1,1], [0,0,1,1,2,2]]))\n",
    "    [1.0, 0.75, 0.5]\n",
    "    \"\"\"\n",
    "    \n",
    "    result = []\n",
    "    \n",
    "    for i in range(num_classes):\n",
    "        mask = labels == i\n",
    "    \n",
    "        inter = (labels[mask] == preds[mask]).astype(np.int).sum()\n",
    "        union = len(labels[mask])\n",
    "    \n",
    "        if union == 0:\n",
    "            result.append(0)\n",
    "        else:\n",
    "            result.append(float(inter)/union)    \n",
    "    \n",
    "    return result\n",
    "\n",
    "\n",
    "doctest.testmod()"
   ]
  },
  {
   "cell_type": "markdown",
   "metadata": {},
   "source": [
    "# Confusion Matrix version"
   ]
  },
  {
   "cell_type": "code",
   "execution_count": 39,
   "metadata": {},
   "outputs": [],
   "source": [
    "class ConfusionMatrix(object):\n",
    "    def __init__(self, num_classes):\n",
    "        self.num_classes = num_classes\n",
    "        self.matrix = np.zeros((num_classes, num_classes))\n",
    "        \n",
    "    def update(self, actual, predicted):\n",
    "        actual = actual.ravel()\n",
    "        predicted = predicted.ravel()\n",
    "        \n",
    "        for a, p in zip(actual, predicted):\n",
    "            self.matrix[p, a] += 1\n",
    "            \n",
    "    def get_matrix(self):\n",
    "        return self.matrix\n",
    "    \n",
    "    def get_iou(self):\n",
    "        return np.diag(self.matrix) / self.matrix.sum(axis=0)"
   ]
  },
  {
   "cell_type": "code",
   "execution_count": 47,
   "metadata": {},
   "outputs": [],
   "source": [
    "a, b = np.array([0,0,1,1,2,2]), np.array([0,0,1,1,2,2])\n",
    "cm = ConfusionMatrix(3)\n",
    "cm.update(a, b)\n",
    "assert (cm.get_iou() == np.array([1.0, 1.0, 1.0])).all()\n",
    "\n",
    "a, b = np.array([0,0,1,1,2,2]), np.array([2,2,0,0,1,1])\n",
    "cm = ConfusionMatrix(3)\n",
    "cm.update(a, b)\n",
    "assert (cm.get_iou() == np.array([0.0, 0.0, 0.0])).all()\n",
    "\n",
    "a, b = np.array([[0,0,1,1,2,2], [0,0,1,1,2,2]]), np.array([[0,0,1,0,1,1], [0,0,1,1,2,2]])\n",
    "cm = ConfusionMatrix(3)\n",
    "cm.update(a, b)\n",
    "assert (cm.get_iou() == np.array([1.0, 0.75, 0.5])).all()"
   ]
  },
  {
   "cell_type": "markdown",
   "metadata": {},
   "source": [
    "# PyTorch version"
   ]
  },
  {
   "cell_type": "code",
   "execution_count": 137,
   "metadata": {},
   "outputs": [],
   "source": [
    "import torch\n",
    "\n",
    "class ConfusionMatrix(object):\n",
    "    def __init__(self, num_classes):\n",
    "        self.num_classes = num_classes\n",
    "        self.matrix = torch.zeros((num_classes, num_classes))\n",
    "        \n",
    "    def update(self, actual, predicted):\n",
    "        s = actual.flatten()*self.num_classes + predicted.flatten()\n",
    "        self.matrix = self.matrix.put_(s, torch.ones_like(s).float(), accumulate=True).T\n",
    "    \n",
    "    def get_matrix(self):\n",
    "        return self.matrix\n",
    "    \n",
    "    def get_iou(self):\n",
    "        return torch.diag(self.matrix) / self.matrix.sum(dim=0)\n",
    "    \n",
    "    def get_miou(self):\n",
    "        return torch.mean(self.get_iou())"
   ]
  },
  {
   "cell_type": "code",
   "execution_count": 140,
   "metadata": {},
   "outputs": [
    {
     "ename": "AssertionError",
     "evalue": "",
     "output_type": "error",
     "traceback": [
      "\u001b[0;31m---------------------------------------------------------------------------\u001b[0m",
      "\u001b[0;31mAssertionError\u001b[0m                            Traceback (most recent call last)",
      "\u001b[0;32m<ipython-input-140-7898e4e58f44>\u001b[0m in \u001b[0;36m<module>\u001b[0;34m\u001b[0m\n\u001b[1;32m      7\u001b[0m \u001b[0mcm\u001b[0m \u001b[0;34m=\u001b[0m \u001b[0mConfusionMatrix\u001b[0m\u001b[0;34m(\u001b[0m\u001b[0;36m3\u001b[0m\u001b[0;34m)\u001b[0m\u001b[0;34m\u001b[0m\u001b[0;34m\u001b[0m\u001b[0m\n\u001b[1;32m      8\u001b[0m \u001b[0mcm\u001b[0m\u001b[0;34m.\u001b[0m\u001b[0mupdate\u001b[0m\u001b[0;34m(\u001b[0m\u001b[0ma\u001b[0m\u001b[0;34m,\u001b[0m \u001b[0mb\u001b[0m\u001b[0;34m)\u001b[0m\u001b[0;34m\u001b[0m\u001b[0;34m\u001b[0m\u001b[0m\n\u001b[0;32m----> 9\u001b[0;31m \u001b[0;32massert\u001b[0m \u001b[0mtorch\u001b[0m\u001b[0;34m.\u001b[0m\u001b[0mall\u001b[0m\u001b[0;34m(\u001b[0m\u001b[0mcm\u001b[0m\u001b[0;34m.\u001b[0m\u001b[0mget_iou\u001b[0m\u001b[0;34m(\u001b[0m\u001b[0;34m)\u001b[0m \u001b[0;34m==\u001b[0m \u001b[0mtorch\u001b[0m\u001b[0;34m.\u001b[0m\u001b[0mtensor\u001b[0m\u001b[0;34m(\u001b[0m\u001b[0;34m[\u001b[0m\u001b[0;36m0.0\u001b[0m\u001b[0;34m,\u001b[0m \u001b[0;36m0.0\u001b[0m\u001b[0;34m,\u001b[0m \u001b[0;36m0.1\u001b[0m\u001b[0;34m]\u001b[0m\u001b[0;34m)\u001b[0m\u001b[0;34m)\u001b[0m\u001b[0;34m\u001b[0m\u001b[0;34m\u001b[0m\u001b[0m\n\u001b[0m\u001b[1;32m     10\u001b[0m \u001b[0;34m\u001b[0m\u001b[0m\n\u001b[1;32m     11\u001b[0m \u001b[0ma\u001b[0m\u001b[0;34m,\u001b[0m \u001b[0mb\u001b[0m \u001b[0;34m=\u001b[0m \u001b[0mtorch\u001b[0m\u001b[0;34m.\u001b[0m\u001b[0mtensor\u001b[0m\u001b[0;34m(\u001b[0m\u001b[0;34m[\u001b[0m\u001b[0;34m[\u001b[0m\u001b[0;36m0\u001b[0m\u001b[0;34m,\u001b[0m\u001b[0;36m0\u001b[0m\u001b[0;34m,\u001b[0m\u001b[0;36m1\u001b[0m\u001b[0;34m,\u001b[0m\u001b[0;36m1\u001b[0m\u001b[0;34m,\u001b[0m\u001b[0;36m2\u001b[0m\u001b[0;34m,\u001b[0m\u001b[0;36m2\u001b[0m\u001b[0;34m]\u001b[0m\u001b[0;34m,\u001b[0m \u001b[0;34m[\u001b[0m\u001b[0;36m0\u001b[0m\u001b[0;34m,\u001b[0m\u001b[0;36m0\u001b[0m\u001b[0;34m,\u001b[0m\u001b[0;36m1\u001b[0m\u001b[0;34m,\u001b[0m\u001b[0;36m1\u001b[0m\u001b[0;34m,\u001b[0m\u001b[0;36m2\u001b[0m\u001b[0;34m,\u001b[0m\u001b[0;36m2\u001b[0m\u001b[0;34m]\u001b[0m\u001b[0;34m]\u001b[0m\u001b[0;34m)\u001b[0m\u001b[0;34m,\u001b[0m \u001b[0mtorch\u001b[0m\u001b[0;34m.\u001b[0m\u001b[0mtensor\u001b[0m\u001b[0;34m(\u001b[0m\u001b[0;34m[\u001b[0m\u001b[0;34m[\u001b[0m\u001b[0;36m0\u001b[0m\u001b[0;34m,\u001b[0m\u001b[0;36m0\u001b[0m\u001b[0;34m,\u001b[0m\u001b[0;36m1\u001b[0m\u001b[0;34m,\u001b[0m\u001b[0;36m0\u001b[0m\u001b[0;34m,\u001b[0m\u001b[0;36m1\u001b[0m\u001b[0;34m,\u001b[0m\u001b[0;36m1\u001b[0m\u001b[0;34m]\u001b[0m\u001b[0;34m,\u001b[0m \u001b[0;34m[\u001b[0m\u001b[0;36m0\u001b[0m\u001b[0;34m,\u001b[0m\u001b[0;36m0\u001b[0m\u001b[0;34m,\u001b[0m\u001b[0;36m1\u001b[0m\u001b[0;34m,\u001b[0m\u001b[0;36m1\u001b[0m\u001b[0;34m,\u001b[0m\u001b[0;36m2\u001b[0m\u001b[0;34m,\u001b[0m\u001b[0;36m2\u001b[0m\u001b[0;34m]\u001b[0m\u001b[0;34m]\u001b[0m\u001b[0;34m)\u001b[0m\u001b[0;34m\u001b[0m\u001b[0;34m\u001b[0m\u001b[0m\n",
      "\u001b[0;31mAssertionError\u001b[0m: "
     ]
    }
   ],
   "source": [
    "a, b = torch.tensor([0,0,1,1,2,2]), torch.tensor([0,0,1,1,2,2])\n",
    "cm = ConfusionMatrix(3)\n",
    "cm.update(a, b)\n",
    "assert torch.all(cm.get_iou() == torch.tensor([1.0, 1.0, 1.0]))\n",
    "\n",
    "a, b = torch.tensor([0,0,1,1,2,2]), torch.tensor([2,2,0,0,1,1])\n",
    "cm = ConfusionMatrix(3)\n",
    "cm.update(a, b)\n",
    "assert torch.all(cm.get_iou() == torch.tensor([0.0, 0.0, 0.0]))\n",
    "\n",
    "a, b = torch.tensor([[0,0,1,1,2,2], [0,0,1,1,2,2]]), torch.tensor([[0,0,1,0,1,1], [0,0,1,1,2,2]])\n",
    "cm = ConfusionMatrix(3)\n",
    "cm.update(a, b)\n",
    "assert torch.all(cm.get_iou() == torch.tensor([1.0, 0.75, 0.5]))\n",
    "\n",
    "a, b = torch.tensor([[0,0,1,1,2,2,3,3], [0,0,1,1,2,2,3,3]]), torch.tensor([[0,0,1,0,1,1,2,2], [0,0,1,1,2,2,3,3]])\n",
    "cm = ConfusionMatrix(4)\n",
    "cm.update(a, b)\n",
    "assert torch.all(cm.get_iou() == torch.tensor([1.0, 0.75, 0.5,0.5]))\n",
    "assert cm.get_miou() == torch.mean(torch.tensor([1.0, 0.75, 0.5,0.5]))"
   ]
  },
  {
   "cell_type": "code",
   "execution_count": null,
   "metadata": {},
   "outputs": [],
   "source": []
  }
 ],
 "metadata": {
  "kernelspec": {
   "display_name": "Python 3",
   "language": "python",
   "name": "python3"
  },
  "language_info": {
   "codemirror_mode": {
    "name": "ipython",
    "version": 3
   },
   "file_extension": ".py",
   "mimetype": "text/x-python",
   "name": "python",
   "nbconvert_exporter": "python",
   "pygments_lexer": "ipython3",
   "version": "3.7.6"
  }
 },
 "nbformat": 4,
 "nbformat_minor": 4
}
