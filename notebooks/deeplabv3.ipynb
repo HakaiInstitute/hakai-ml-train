{
 "cells": [
  {
   "cell_type": "code",
   "execution_count": 2,
   "metadata": {},
   "outputs": [],
   "source": [
    "import sys\n",
    "sys.path.append('..')\n",
    "\n",
    "import torch\n",
    "from torch import nn\n",
    "from torch.utils.data import DataLoader\n",
    "import os\n",
    "from tqdm.auto import tqdm, trange\n",
    "from collections import OrderedDict\n",
    "from PIL import Image\n",
    "from torchvision.transforms import ToPILImage\n",
    "import matplotlib.pyplot as plt\n",
    "\n",
    "from utils.dataset import SegmentationDataset, transforms as T\n",
    "from utils.vis import show_torch_batch\n",
    "from models import deeplabv3"
   ]
  },
  {
   "cell_type": "code",
   "execution_count": 3,
   "metadata": {},
   "outputs": [],
   "source": [
    "disable_cuda = False\n",
    "num_classes = 7\n",
    "num_epochs = 3\n",
    "batch_size = 4\n",
    "\n",
    "if not disable_cuda and torch.cuda.is_available():\n",
    "    device = torch.device('cuda')\n",
    "else:\n",
    "    device = torch.device('cpu')"
   ]
  },
  {
   "cell_type": "code",
   "execution_count": 4,
   "metadata": {},
   "outputs": [],
   "source": [
    "ds_train = SegmentationDataset(\"../data/datasets/Calvert_2012\", \n",
    "                         transform=T.train_transforms, \n",
    "                         target_transform=T.train_target_transforms)\n",
    "\n",
    "ds_val = SegmentationDataset(\"../data/datasets/Calvert_2015\", \n",
    "                         transform=T.test_transforms, \n",
    "                         target_transform=T.test_target_transforms)\n",
    "\n",
    "dataloader_opts = {\n",
    "    \"batch_size\": batch_size, \n",
    "    \"pin_memory\": True, \n",
    "    \"drop_last\": True,\n",
    "    \"num_workers\": 8\n",
    "}\n",
    "dataloaders = {\n",
    "    'train': DataLoader(ds_train, shuffle=True, **dataloader_opts),\n",
    "    'eval': DataLoader(ds_val, shuffle=False, **dataloader_opts)\n",
    "}"
   ]
  },
  {
   "cell_type": "code",
   "execution_count": 7,
   "metadata": {},
   "outputs": [],
   "source": [
    "model = deeplabv3.create_model(num_classes)\n",
    "model = model.to(device)\n",
    "\n",
    "# optimizer = torch.optim.SGD(model.parameters(), lr=1e-3, momentum=0.9)\n",
    "optimizer = torch.optim.Adam(model.parameters(), lr=1e-4)\n",
    "\n",
    "criterion = nn.CrossEntropyLoss()"
   ]
  },
  {
   "cell_type": "code",
   "execution_count": 8,
   "metadata": {
    "scrolled": false
   },
   "outputs": [],
   "source": [
    "def overfit_model_to_single_batch(model, x, y, optimizer, criterion, num_epochs):\n",
    "    info = OrderedDict()\n",
    "    \n",
    "    x = x.to(device)\n",
    "    y = y.to(device)\n",
    "    model.train()\n",
    "    \n",
    "    pbar = trange(1, num_epochs+1)\n",
    "    for epoch in pbar:\n",
    "        optimizer.zero_grad()\n",
    "\n",
    "        out = model(x)\n",
    "        loss = criterion(out['out'], y)\n",
    "\n",
    "        loss.backward()\n",
    "        optimizer.step()\n",
    "\n",
    "        info['loss'] = loss.detach().cpu().item()\n",
    "        pbar.set_postfix(info)\n",
    "        \n",
    "        if epoch % 10 == 0:\n",
    "            show_torch_batch(x, y, out['out'])\n",
    "    \n",
    "    return model\n",
    "    \n",
    "# model = overfit_model_to_single_batch(model, *next(iter(dataloaders['train'])), optimizer, criterion, 100)"
   ]
  },
  {
   "cell_type": "code",
   "execution_count": 9,
   "metadata": {},
   "outputs": [],
   "source": [
    "def train_model(model, dataloaders, optimizer, criterion, num_epochs, metrics, save_path):\n",
    "    info = OrderedDict()\n",
    "    \n",
    "    for epoch in range(1, num_epochs+1):\n",
    "        print('Epoch {}/{}'.format(epoch, num_epochs))\n",
    "\n",
    "        for phase in ['train']:#, 'eval']:\n",
    "            pbar = tqdm(iter(dataloaders[phase]), desc=phase)\n",
    "            for i, (x, y) in enumerate(pbar):\n",
    "                x = x.to(device)\n",
    "                y = y.to(device)\n",
    "                \n",
    "                optimizer.zero_grad()\n",
    "                \n",
    "                if phase == 'train':\n",
    "                    model.train()\n",
    "                else:\n",
    "                    model.eval()\n",
    "\n",
    "                out = model(x)\n",
    "                loss = criterion(out['out'], y)\n",
    "\n",
    "                if phase == 'train':\n",
    "                    loss.backward()\n",
    "                    optimizer.step()\n",
    "                    \n",
    "                if (i+1) % 1000 == 0:\n",
    "                    show_torch_batch(x, y, out['out'])\n",
    "\n",
    "                info['loss'] = loss.detach().cpu().item()\n",
    "                pbar.set_postfix(info)\n",
    "                \n",
    "    return model"
   ]
  },
  {
   "cell_type": "code",
   "execution_count": null,
   "metadata": {},
   "outputs": [
    {
     "name": "stdout",
     "output_type": "stream",
     "text": [
      "Epoch 1/3\n"
     ]
    },
    {
     "data": {
      "application/vnd.jupyter.widget-view+json": {
       "model_id": "e4e32c1552104952b6a4150767f1d6d5",
       "version_major": 2,
       "version_minor": 0
      },
      "text/plain": [
       "HBox(children=(FloatProgress(value=0.0, description='train', max=4406.0, style=ProgressStyle(description_width…"
      ]
     },
     "metadata": {},
     "output_type": "display_data"
    }
   ],
   "source": [
    "model = train_model(model, dataloaders, optimizer, criterion, num_epochs, lambda a: None, './model.pth')"
   ]
  },
  {
   "cell_type": "code",
   "execution_count": null,
   "metadata": {},
   "outputs": [],
   "source": [
    "# TODO\n",
    "# Evaluation metrics\n",
    "# Combined big dataset\n",
    "# Checkpoint weights"
   ]
  },
  {
   "cell_type": "code",
   "execution_count": null,
   "metadata": {},
   "outputs": [],
   "source": []
  }
 ],
 "metadata": {
  "kernelspec": {
   "display_name": "Python 3",
   "language": "python",
   "name": "python3"
  },
  "language_info": {
   "codemirror_mode": {
    "name": "ipython",
    "version": 3
   },
   "file_extension": ".py",
   "mimetype": "text/x-python",
   "name": "python",
   "nbconvert_exporter": "python",
   "pygments_lexer": "ipython3",
   "version": "3.7.6"
  }
 },
 "nbformat": 4,
 "nbformat_minor": 4
}
