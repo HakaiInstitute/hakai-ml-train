{
 "cells": [
  {
   "cell_type": "code",
   "execution_count": 1,
   "metadata": {},
   "outputs": [],
   "source": [
    "import sys\n",
    "sys.path.append('..')\n",
    "\n",
    "import torch\n",
    "from torch import nn\n",
    "from torch.utils.data import DataLoader\n",
    "from torch.utils.tensorboard import SummaryWriter\n",
    "import torchvision\n",
    "import os\n",
    "from tqdm.auto import tqdm, trange\n",
    "from collections import OrderedDict\n",
    "from PIL import Image\n",
    "from torchvision.transforms import ToPILImage\n",
    "import matplotlib.pyplot as plt\n",
    "import numpy as np\n",
    "from pathlib import Path\n",
    "\n",
    "from utils.dataset import SegmentationDataset, TransformDataset, transforms as T\n",
    "from utils.vis import show_torch_batch, show_torch_img\n",
    "from utils.metrics import ConfusionMatrix\n",
    "from models import deeplabv3, half_precision"
   ]
  },
  {
   "cell_type": "code",
   "execution_count": 2,
   "metadata": {},
   "outputs": [
    {
     "name": "stdout",
     "output_type": "stream",
     "text": [
      "Using device: cuda\n"
     ]
    }
   ],
   "source": [
    "disable_cuda = False\n",
    "num_classes = 2\n",
    "num_epochs = 30\n",
    "batch_size = 4\n",
    "ignore_index = 100  # Value of labels that we ignore in loss and other logic (e.g. kelp with unknown species)\n",
    "prep_datasets = True\n",
    "dataset_path = Path('../checkpoints/datasets.pt')\n",
    " \n",
    "if not disable_cuda and torch.cuda.is_available():\n",
    "    device = torch.device('cuda')\n",
    "else:\n",
    "    device = torch.device('cpu')\n",
    "\n",
    "print(\"Using device:\", device)"
   ]
  },
  {
   "cell_type": "code",
   "execution_count": 3,
   "metadata": {},
   "outputs": [],
   "source": [
    "# Make results reproducable\n",
    "torch.manual_seed(0)\n",
    "torch.backends.cudnn.deterministic = True\n",
    "torch.backends.cudnn.benchmark = False\n",
    "np.random.seed(0)"
   ]
  },
  {
   "cell_type": "markdown",
   "metadata": {},
   "source": [
    "# Datasets"
   ]
  },
  {
   "cell_type": "code",
   "execution_count": 4,
   "metadata": {},
   "outputs": [
    {
     "name": "stdout",
     "output_type": "stream",
     "text": [
      "Training samples: 48540\n",
      "Validation samples: 12136\n"
     ]
    }
   ],
   "source": [
    "dataloader_opts = {\n",
    "    \"batch_size\": batch_size, \n",
    "    \"pin_memory\": True, \n",
    "    \"drop_last\": True,\n",
    "    \"num_workers\": os.cpu_count()\n",
    "}\n",
    "\n",
    "if prep_datasets:\n",
    "    ds_paths = [\n",
    "        \"../data/datasets/kelp/nw_calvert_2012\",\n",
    "        \"../data/datasets/kelp/nw_calvert_2015\", \n",
    "        \"../data/datasets/kelp/choked_pass_2016\",\n",
    "        \"../data/datasets/kelp/west_beach_2016\"\n",
    "    ]\n",
    "    ds = torch.utils.data.ConcatDataset([SegmentationDataset(path) for path in ds_paths])\n",
    "\n",
    "    train_num = int(len(ds) * 0.8)\n",
    "    val_num = len(ds) - train_num\n",
    "    ds_train, ds_val = torch.utils.data.random_split(ds, [train_num, val_num])\n",
    "\n",
    "    # Bind data transforms to the subset datasets\n",
    "    ds_train = TransformDataset(ds_train, T.train_transforms, T.train_target_transforms)\n",
    "    ds_val = TransformDataset(ds_val, T.test_transforms, T.test_target_transforms)\n",
    "\n",
    "    dataloaders = {\n",
    "        'train': DataLoader(ds_train, shuffle=True, **dataloader_opts),\n",
    "        'eval': DataLoader(ds_val, shuffle=False, **dataloader_opts),\n",
    "    }\n",
    "\n",
    "    print(\"Training samples:\", train_num)\n",
    "    print(\"Validation samples:\", val_num)"
   ]
  },
  {
   "cell_type": "code",
   "execution_count": 5,
   "metadata": {},
   "outputs": [],
   "source": [
    "def ds_pixel_stats(dataloader):\n",
    "    pixel_counts = torch.zeros((num_classes)).to(device)\n",
    "\n",
    "    for x, y in tqdm(iter(dataloader)):\n",
    "        try:\n",
    "            un, counts = torch.unique(y.to(device), return_counts=True)\n",
    "            mask = un != ignore_index\n",
    "            pixel_counts.index_add_(0, un[mask], counts[mask].float())\n",
    "        except Exception:\n",
    "            import pdb; pdb.set_trace()\n",
    "    \n",
    "    pixel_ratio = pixel_counts / pixel_counts.sum(dim=0)\n",
    "    pixel_counts = pixel_counts.detach().cpu().numpy()\n",
    "    pixel_ratio = np.around(pixel_ratio.detach().cpu().numpy(), 4)\n",
    "    \n",
    "    return pixel_ratio, pixel_counts "
   ]
  },
  {
   "cell_type": "code",
   "execution_count": 6,
   "metadata": {},
   "outputs": [],
   "source": [
    "# for i in range(len(ds_train)):\n",
    "#     if ds_train[i][0].shape != torch.Size([3,200,200]):\n",
    "#         print(ds_train[i][0].shape)"
   ]
  },
  {
   "cell_type": "code",
   "execution_count": 7,
   "metadata": {},
   "outputs": [
    {
     "data": {
      "application/vnd.jupyter.widget-view+json": {
       "model_id": "40ffc6b8e46a4d49bbb95fff96878fea",
       "version_major": 2,
       "version_minor": 0
      },
      "text/plain": [
       "HBox(children=(FloatProgress(value=0.0, max=12135.0), HTML(value='')))"
      ]
     },
     "metadata": {},
     "output_type": "display_data"
    },
    {
     "name": "stdout",
     "output_type": "stream",
     "text": [
      "\n",
      "[0.9657 0.0343]\n"
     ]
    },
    {
     "data": {
      "image/png": "[encoded data removed]",
      "text/plain": [
       "<Figure size 432x288 with 1 Axes>"
      ]
     },
     "metadata": {
      "needs_background": "light"
     },
     "output_type": "display_data"
    },
    {
     "data": {
      "application/vnd.jupyter.widget-view+json": {
       "model_id": "5a21a22aa6ae477e98deb136aa509088",
       "version_major": 2,
       "version_minor": 0
      },
      "text/plain": [
       "HBox(children=(FloatProgress(value=0.0, max=3034.0), HTML(value='')))"
      ]
     },
     "metadata": {},
     "output_type": "display_data"
    },
    {
     "name": "stdout",
     "output_type": "stream",
     "text": [
      "\n",
      "[0.9596 0.0404]\n"
     ]
    },
    {
     "data": {
      "image/png": "[encoded data removed]",
      "text/plain": [
       "<Figure size 432x288 with 1 Axes>"
      ]
     },
     "metadata": {
      "needs_background": "light"
     },
     "output_type": "display_data"
    }
   ],
   "source": [
    "if prep_datasets:\n",
    "    train_proportions, train_counts = ds_pixel_stats(dataloaders['train'])\n",
    "    print(train_proportions)\n",
    "    plt.figure(); plt.bar(range(num_classes), train_proportions); plt.show()\n",
    "\n",
    "    val_proportions, val_counts = ds_pixel_stats(dataloaders['eval'])\n",
    "    print(val_proportions) \n",
    "    plt.figure(); plt.bar(range(num_classes), val_proportions); plt.show()"
   ]
  },
  {
   "cell_type": "markdown",
   "metadata": {},
   "source": [
    "# Undersample kelp-free empty images"
   ]
  },
  {
   "cell_type": "code",
   "execution_count": 8,
   "metadata": {},
   "outputs": [
    {
     "data": {
      "application/vnd.jupyter.widget-view+json": {
       "model_id": "5ce34efc34c94ce6a1dfb31f7065bb3b",
       "version_major": 2,
       "version_minor": 0
      },
      "text/plain": [
       "HBox(children=(FloatProgress(value=0.0, max=48540.0), HTML(value='')))"
      ]
     },
     "metadata": {},
     "output_type": "display_data"
    },
    {
     "name": "stdout",
     "output_type": "stream",
     "text": [
      "\n"
     ]
    },
    {
     "data": {
      "application/vnd.jupyter.widget-view+json": {
       "model_id": "dbf23b32c34e4c2b8686bd4dd1443252",
       "version_major": 2,
       "version_minor": 0
      },
      "text/plain": [
       "HBox(children=(FloatProgress(value=0.0, max=12136.0), HTML(value='')))"
      ]
     },
     "metadata": {},
     "output_type": "display_data"
    },
    {
     "name": "stdout",
     "output_type": "stream",
     "text": [
      "\n"
     ]
    }
   ],
   "source": [
    "def get_indices_of_kelp_images(dataset):\n",
    "    dl = DataLoader(dataset, batch_size=1, shuffle=False, pin_memory=True, num_workers=os.cpu_count())\n",
    "    indices = []\n",
    "    \n",
    "    for i, (_, y) in enumerate(tqdm(iter(dl))):\n",
    "        if torch.any(y > 0):\n",
    "            indices.append(i)\n",
    "    return indices\n",
    "\n",
    "if prep_datasets:\n",
    "    train_indices = get_indices_of_kelp_images(ds_train)\n",
    "    val_indices = get_indices_of_kelp_images(ds_val)\n",
    "\n",
    "    ds_train = torch.utils.data.Subset(ds_train, train_indices)\n",
    "    ds_val = torch.utils.data.Subset(ds_val, val_indices)\n",
    "    ds_overfit = torch.utils.data.Subset(ds_train, range(0, batch_size))\n",
    "\n",
    "    torch.save({\n",
    "        'train': ds_train,\n",
    "        'val': ds_val,\n",
    "        'overfit': ds_overfit\n",
    "    }, dataset_path)\n",
    "else:\n",
    "    dataset_saved = torch.load(dataset_path)\n",
    "    ds_train = dataset_saved['train']\n",
    "    ds_val = dataset_saved['val']\n",
    "    ds_overfit = dataset_saved['overfit']\n",
    "    \n",
    "\n",
    "dataloaders = {\n",
    "    'train': DataLoader(ds_train, shuffle=True, **dataloader_opts),\n",
    "    'eval': DataLoader(ds_val, shuffle=False, **dataloader_opts),\n",
    "    'overfit': DataLoader(ds_overfit, shuffle=False, **dataloader_opts)\n",
    "}"
   ]
  },
  {
   "cell_type": "code",
   "execution_count": 9,
   "metadata": {},
   "outputs": [
    {
     "data": {
      "application/vnd.jupyter.widget-view+json": {
       "model_id": "8b59ab31ee4345928da5f572cc2b4fab",
       "version_major": 2,
       "version_minor": 0
      },
      "text/plain": [
       "HBox(children=(FloatProgress(value=0.0, max=1554.0), HTML(value='')))"
      ]
     },
     "metadata": {},
     "output_type": "display_data"
    },
    {
     "name": "stdout",
     "output_type": "stream",
     "text": [
      "\n",
      "[0.7322 0.2678]\n"
     ]
    },
    {
     "data": {
      "image/png": "[encoded data removed]",
      "text/plain": [
       "<Figure size 432x288 with 1 Axes>"
      ]
     },
     "metadata": {
      "needs_background": "light"
     },
     "output_type": "display_data"
    },
    {
     "data": {
      "application/vnd.jupyter.widget-view+json": {
       "model_id": "40895151c7944483a85a4268585556b9",
       "version_major": 2,
       "version_minor": 0
      },
      "text/plain": [
       "HBox(children=(FloatProgress(value=0.0, max=408.0), HTML(value='')))"
      ]
     },
     "metadata": {},
     "output_type": "display_data"
    },
    {
     "name": "stdout",
     "output_type": "stream",
     "text": [
      "\n",
      "[0.6993 0.3007]\n"
     ]
    },
    {
     "data": {
      "image/png": "[encoded data removed]",
      "text/plain": [
       "<Figure size 432x288 with 1 Axes>"
      ]
     },
     "metadata": {
      "needs_background": "light"
     },
     "output_type": "display_data"
    }
   ],
   "source": [
    "train_proportions, train_counts = ds_pixel_stats(dataloaders['train'])\n",
    "print(train_proportions)\n",
    "plt.figure(); plt.bar(range(num_classes), train_proportions); plt.show()\n",
    "\n",
    "val_proportions, val_counts = ds_pixel_stats(dataloaders['eval'])\n",
    "print(val_proportions) \n",
    "plt.figure(); plt.bar(range(num_classes), val_proportions); plt.show()"
   ]
  },
  {
   "cell_type": "markdown",
   "metadata": {},
   "source": [
    "# Net, opt, loss"
   ]
  },
  {
   "cell_type": "code",
   "execution_count": 10,
   "metadata": {},
   "outputs": [],
   "source": [
    "from utils.loss import CBLoss\n",
    "\n",
    "model = deeplabv3.create_model(num_classes)\n",
    "model = model.to(device)\n",
    "# model = half_precision(model)\n",
    "\n",
    "if torch.cuda.device_count() > 1:\n",
    "    print(\"Using\", torch.cuda.device_count(), \"GPUs!\")\n",
    "    model = nn.DataParallel(model)\n",
    "\n",
    "# optimizer = torch.optim.SGD(model.parameters(), lr=0.01, momentum=0.9, weight_decay=0.01)\n",
    "optimizer = torch.optim.Adam(model.parameters(), lr=1e-4, weight_decay=0.01)\n",
    "\n",
    "criterion = nn.CrossEntropyLoss(ignore_index=ignore_index)\n",
    "# criterion = CBLoss(train_counts.astype(np.int32), num_classes, \"focal\", 0.9999, 2.0)"
   ]
  },
  {
   "cell_type": "markdown",
   "metadata": {},
   "source": [
    "# Overfit to a single batch to ensure things work"
   ]
  },
  {
   "cell_type": "code",
   "execution_count": 11,
   "metadata": {
    "scrolled": false
   },
   "outputs": [],
   "source": [
    "def overfit_model_to_single_batch(model, dataloader, optimizer, criterion, num_epochs):\n",
    "    model.train()\n",
    "    \n",
    "    info = OrderedDict()\n",
    "    sum_iou = np.zeros(num_classes)\n",
    "    cm = ConfusionMatrix(num_classes).to(device)\n",
    "    \n",
    "    with trange(1, num_epochs+1) as pbar:\n",
    "        for epoch in pbar:\n",
    "            for x, y in dataloader:\n",
    "                x = x.to(device)\n",
    "                y = y.to(device)\n",
    "\n",
    "                optimizer.zero_grad()\n",
    "\n",
    "                pred = model(x)['out']\n",
    "                loss = criterion(pred, y)\n",
    "\n",
    "                loss.backward()\n",
    "                optimizer.step()\n",
    "\n",
    "                if epoch % 100 == 0:\n",
    "                    show_torch_batch(x, y, pred)\n",
    "\n",
    "                # Compute metrics\n",
    "                loss = loss.detach().cpu().item()\n",
    "                info['batch_loss'] = loss\n",
    "\n",
    "                cm.update(y, pred.max(dim=1)[1])\n",
    "                info['IoUs'] = np.around(np.nan_to_num(cm.get_iou().detach().cpu().numpy()), 4)\n",
    "\n",
    "                pbar.set_postfix(info)\n",
    "    \n",
    "    return model\n",
    "    \n",
    "# model = overfit_model_to_single_batch(model, dataloaders['overfit'], optimizer, criterion, 10)"
   ]
  },
  {
   "cell_type": "markdown",
   "metadata": {},
   "source": [
    "# Train the model"
   ]
  },
  {
   "cell_type": "code",
   "execution_count": 12,
   "metadata": {},
   "outputs": [],
   "source": [
    "def train_model(model, dataloaders, num_classes, optimizer, criterion, num_epochs, save_path, start_epoch=0):\n",
    "    writer = SummaryWriter()\n",
    "    info = OrderedDict()\n",
    "    \n",
    "    best_loss = None\n",
    "    \n",
    "    for epoch in trange(start_epoch, num_epochs, desc=\"epoch\"):\n",
    "        sum_loss = 0.\n",
    "        sum_iou = np.zeros(num_classes)\n",
    "        cm = ConfusionMatrix(num_classes).to(device)\n",
    "        \n",
    "        for phase in ['train', 'eval']:\n",
    "            with tqdm(iter(dataloaders[phase]), desc=phase) as pbar:\n",
    "                for i, (x, y) in enumerate(pbar):\n",
    "                    global_step = (epoch+1)*(i+1)\n",
    "                    \n",
    "                    x = x.to(device)\n",
    "                    y = y.to(device)\n",
    "\n",
    "                    optimizer.zero_grad()\n",
    "\n",
    "                    if phase == 'train':\n",
    "                        model.train()\n",
    "                    else:\n",
    "                        model.eval()\n",
    "\n",
    "                    pred = model(x)['out']\n",
    "                    loss = criterion(pred, y)\n",
    "\n",
    "                    if phase == 'train':\n",
    "                        loss.backward()\n",
    "                        optimizer.step()\n",
    "\n",
    "                    # Compute metrics\n",
    "                    sum_loss += loss.detach().cpu().item()\n",
    "                    info['mean_loss'] = sum_loss / (i+1)\n",
    "\n",
    "                    mask = y != ignore_index\n",
    "                    cm.update(y[mask], pred.max(dim=1)[1][mask])\n",
    "                    info['IoUs'] = np.around(np.nan_to_num(cm.get_iou().detach().cpu().numpy()), 4)\n",
    "\n",
    "                    pbar.set_postfix(info)\n",
    "                    \n",
    "#                     if global_step == 1:\n",
    "#                         writer.add_graph(model, x)\n",
    "                    \n",
    "                    writer.add_scalar(f'Loss/{phase}', info['mean_loss'], global_step)\n",
    "                    writer.add_scalar(f'Mean IoU/{phase}', np.mean(info['IoUs']), global_step)\n",
    "                    writer.add_histogram(f'IoUs/{phase}', info['IoUs'], global_step, bins=num_classes)\n",
    "                    \n",
    "                    if global_step % 500 == 0:\n",
    "                        # Show images\n",
    "                        grid = torchvision.utils.make_grid(x, nrow=x.shape[0])\n",
    "                        grid = T.inv_normalize(grid)\n",
    "                        writer.add_image(f'{phase}/images', grid, global_step)\n",
    "\n",
    "                        # Show labels and predictions\n",
    "                        y = y.unsqueeze(dim=1)\n",
    "                        grid = torchvision.utils.make_grid(y, nrow=y.shape[0]).type(torch.FloatTensor)\n",
    "                        writer.add_image(f'{phase}/labels', grid, global_step)\n",
    "                        \n",
    "                        # Show predictions\n",
    "                        pred = pred.max(dim=1)[1].unsqueeze(dim=1)\n",
    "                        grid = torchvision.utils.make_grid(pred, nrow=pred.shape[0]).type(torch.FloatTensor)\n",
    "                        writer.add_image(f'{phase}/preds', grid, global_step)\n",
    "                        \n",
    "            # Show a batch of images\n",
    "            # show_torch_batch(x, y, pred)\n",
    "\n",
    "                \n",
    "        # Model checkpointing after eval stage\n",
    "        if best_loss is None or info['mean_loss'] < best_loss:\n",
    "            torch.save({\n",
    "                'epoch': epoch,\n",
    "                'model_state_dict': model.state_dict(),\n",
    "                'optimizer_state_dict': optimizer.state_dict(),\n",
    "                'mean_eval_loss': info['mean_loss'],\n",
    "                }, save_path)\n",
    "        \n",
    "    writer.close()\n",
    " \n",
    "    return model"
   ]
  },
  {
   "cell_type": "code",
   "execution_count": 13,
   "metadata": {
    "scrolled": true
   },
   "outputs": [
    {
     "data": {
      "application/vnd.jupyter.widget-view+json": {
       "model_id": "8d451700ce194a928106761c2aeba68e",
       "version_major": 2,
       "version_minor": 0
      },
      "text/plain": [
       "HBox(children=(FloatProgress(value=0.0, description='epoch', max=30.0, style=ProgressStyle(description_width='…"
      ]
     },
     "metadata": {},
     "output_type": "display_data"
    },
    {
     "data": {
      "application/vnd.jupyter.widget-view+json": {
       "model_id": "78edbc630f3444888c4f059125b8462d",
       "version_major": 2,
       "version_minor": 0
      },
      "text/plain": [
       "HBox(children=(FloatProgress(value=0.0, description='train', max=1554.0, style=ProgressStyle(description_width…"
      ]
     },
     "metadata": {},
     "output_type": "display_data"
    },
    {
     "name": "stdout",
     "output_type": "stream",
     "text": [
      "\n"
     ]
    },
    {
     "ename": "KeyboardInterrupt",
     "evalue": "",
     "output_type": "error",
     "traceback": [
      "\u001b[0;31m---------------------------------------------------------------------------\u001b[0m",
      "\u001b[0;31mKeyboardInterrupt\u001b[0m                         Traceback (most recent call last)",
      "\u001b[0;32m<ipython-input-13-d8af71fc67c9>\u001b[0m in \u001b[0;36m<module>\u001b[0;34m\u001b[0m\n\u001b[1;32m     11\u001b[0m     \u001b[0mepoch\u001b[0m \u001b[0;34m=\u001b[0m \u001b[0;36m0\u001b[0m\u001b[0;34m\u001b[0m\u001b[0;34m\u001b[0m\u001b[0m\n\u001b[1;32m     12\u001b[0m \u001b[0;34m\u001b[0m\u001b[0m\n\u001b[0;32m---> 13\u001b[0;31m \u001b[0mmodel\u001b[0m \u001b[0;34m=\u001b[0m  \u001b[0mtrain_model\u001b[0m\u001b[0;34m(\u001b[0m\u001b[0mmodel\u001b[0m\u001b[0;34m,\u001b[0m \u001b[0mdataloaders\u001b[0m\u001b[0;34m,\u001b[0m \u001b[0mnum_classes\u001b[0m\u001b[0;34m,\u001b[0m \u001b[0moptimizer\u001b[0m\u001b[0;34m,\u001b[0m \u001b[0mcriterion\u001b[0m\u001b[0;34m,\u001b[0m \u001b[0mnum_epochs\u001b[0m\u001b[0;34m,\u001b[0m \u001b[0msave_path\u001b[0m\u001b[0;34m,\u001b[0m \u001b[0mstart_epoch\u001b[0m\u001b[0;34m=\u001b[0m\u001b[0mepoch\u001b[0m\u001b[0;34m)\u001b[0m\u001b[0;34m\u001b[0m\u001b[0;34m\u001b[0m\u001b[0m\n\u001b[0m",
      "\u001b[0;32m<ipython-input-12-791160dac70b>\u001b[0m in \u001b[0;36mtrain_model\u001b[0;34m(model, dataloaders, num_classes, optimizer, criterion, num_epochs, save_path, start_epoch)\u001b[0m\n\u001b[1;32m     33\u001b[0m \u001b[0;34m\u001b[0m\u001b[0m\n\u001b[1;32m     34\u001b[0m                     \u001b[0;31m# Compute metrics\u001b[0m\u001b[0;34m\u001b[0m\u001b[0;34m\u001b[0m\u001b[0;34m\u001b[0m\u001b[0m\n\u001b[0;32m---> 35\u001b[0;31m                     \u001b[0msum_loss\u001b[0m \u001b[0;34m+=\u001b[0m \u001b[0mloss\u001b[0m\u001b[0;34m.\u001b[0m\u001b[0mdetach\u001b[0m\u001b[0;34m(\u001b[0m\u001b[0;34m)\u001b[0m\u001b[0;34m.\u001b[0m\u001b[0mcpu\u001b[0m\u001b[0;34m(\u001b[0m\u001b[0;34m)\u001b[0m\u001b[0;34m.\u001b[0m\u001b[0mitem\u001b[0m\u001b[0;34m(\u001b[0m\u001b[0;34m)\u001b[0m\u001b[0;34m\u001b[0m\u001b[0;34m\u001b[0m\u001b[0m\n\u001b[0m\u001b[1;32m     36\u001b[0m                     \u001b[0minfo\u001b[0m\u001b[0;34m[\u001b[0m\u001b[0;34m'mean_loss'\u001b[0m\u001b[0;34m]\u001b[0m \u001b[0;34m=\u001b[0m \u001b[0msum_loss\u001b[0m \u001b[0;34m/\u001b[0m \u001b[0;34m(\u001b[0m\u001b[0mi\u001b[0m\u001b[0;34m+\u001b[0m\u001b[0;36m1\u001b[0m\u001b[0;34m)\u001b[0m\u001b[0;34m\u001b[0m\u001b[0;34m\u001b[0m\u001b[0m\n\u001b[1;32m     37\u001b[0m \u001b[0;34m\u001b[0m\u001b[0m\n",
      "\u001b[0;31mKeyboardInterrupt\u001b[0m: "
     ]
    }
   ],
   "source": [
    "from pathlib import Path\n",
    "save_path = Path('../checkpoints/deeplabv3/checkpoint.pt')\n",
    "save_path.parents[0].mkdir(parents=True, exist_ok=True)\n",
    "\n",
    "if Path(save_path).exists():\n",
    "    checkpoint = torch.load(save_path)\n",
    "    model.load_state_dict(checkpoint['model_state_dict'])\n",
    "    optimizer.load_state_dict(checkpoint['optimizer_state_dict'])\n",
    "    epoch = checkpoint['epoch']\n",
    "else:\n",
    "    epoch = 0\n",
    "\n",
    "model =  train_model(model, dataloaders, num_classes, optimizer, criterion, num_epochs, save_path, start_epoch=epoch)"
   ]
  },
  {
   "cell_type": "markdown",
   "metadata": {},
   "source": [
    "## TODO\n",
    "\n",
    "- Change mixed class to don't care\n",
    "- Try different optimizer\n",
    "- ~~Train for Kelp/Not Kelp only~~\n",
    "- Check that changing prior doesn't affect performance too badly\n",
    "- Optimize regularization\n",
    "\n",
    "## TO TRY\n",
    "- Add Jaccard index loss as in https://www.kaggle.com/windsurfer/baseline-u-net-on-pytorch\n",
    "- Straight Jaccard loss\n",
    "- ~~Undersample Kelp-free images~~\n",
    "- Oversample images with kelp\n",
    "- Try UNet"
   ]
  }
 ],
 "metadata": {
  "kernelspec": {
   "display_name": "Python 3",
   "language": "python",
   "name": "python3"
  },
  "language_info": {
   "codemirror_mode": {
    "name": "ipython",
    "version": 3
   },
   "file_extension": ".py",
   "mimetype": "text/x-python",
   "name": "python",
   "nbconvert_exporter": "python",
   "pygments_lexer": "ipython3",
   "version": "3.7.6"
  },
  "pycharm": {
   "stem_cell": {
    "cell_type": "raw",
    "metadata": {
     "collapsed": false
    },
    "source": []
   }
  }
 },
 "nbformat": 4,
 "nbformat_minor": 4
}
