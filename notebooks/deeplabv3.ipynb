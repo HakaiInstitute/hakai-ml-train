{
 "cells": [
  {
   "cell_type": "code",
   "execution_count": 1,
   "metadata": {},
   "outputs": [],
   "source": [
    "import sys\n",
    "sys.path.append('..')\n",
    "\n",
    "import torch\n",
    "from torch import nn\n",
    "from torch.utils.data import DataLoader\n",
    "import os\n",
    "from tqdm.auto import tqdm, trange\n",
    "from collections import OrderedDict\n",
    "from PIL import Image\n",
    "from torchvision.transforms import ToPILImage\n",
    "import matplotlib.pyplot as plt\n",
    "import numpy as np\n",
    "from pathlib import Path\n",
    "\n",
    "from utils.dataset import SegmentationDataset, TransformDataset, transforms as T\n",
    "from utils.vis import show_torch_batch, show_torch_img\n",
    "from utils.metrics import ConfusionMatrix\n",
    "from models import deeplabv3, half_precision"
   ]
  },
  {
   "cell_type": "code",
   "execution_count": 2,
   "metadata": {},
   "outputs": [
    {
     "name": "stdout",
     "output_type": "stream",
     "text": [
      "Using device: cuda\n"
     ]
    }
   ],
   "source": [
    "disable_cuda = False\n",
    "num_classes = 2\n",
    "num_epochs = 30\n",
    "batch_size = 4\n",
    "ignore_index = 100  # Value of labels that we ignore in loss and other logic (e.g. kelp with unknown species)\n",
    "prep_datasets = False\n",
    "dataset_path = Path('../checkpoints/datasets.pt')\n",
    "\n",
    "if not disable_cuda and torch.cuda.is_available():\n",
    "    device = torch.device('cuda')\n",
    "else:\n",
    "    device = torch.device('cpu')\n",
    "\n",
    "print(\"Using device:\", device)"
   ]
  },
  {
   "cell_type": "code",
   "execution_count": 3,
   "metadata": {},
   "outputs": [],
   "source": [
    "# Make results reproducable\n",
    "torch.manual_seed(0)\n",
    "torch.backends.cudnn.deterministic = True\n",
    "torch.backends.cudnn.benchmark = False\n",
    "np.random.seed(0)"
   ]
  },
  {
   "cell_type": "markdown",
   "metadata": {},
   "source": [
    "# Datasets"
   ]
  },
  {
   "cell_type": "code",
   "execution_count": 4,
   "metadata": {},
   "outputs": [],
   "source": [
    "dataloader_opts = {\n",
    "    \"batch_size\": batch_size, \n",
    "    \"pin_memory\": True, \n",
    "    \"drop_last\": True,\n",
    "    \"num_workers\": os.cpu_count()\n",
    "}\n",
    "\n",
    "if prep_datasets:\n",
    "    ds_paths = [\n",
    "        \"../data/datasets/Calvert_2012\",\n",
    "        \"../data/datasets/Calvert_2015\", \n",
    "        \"../data/datasets/Calvert_ChokedNorthBeach_2016\", \n",
    "        \"../data/datasets/Calvert_WestBeach_2016\"\n",
    "    ]\n",
    "    ds = torch.utils.data.ConcatDataset([SegmentationDataset(path) for path in ds_paths])\n",
    "\n",
    "    train_num = int(len(ds) * 0.8)\n",
    "    val_num = len(ds) - train_num\n",
    "    ds_train, ds_val = torch.utils.data.random_split(ds, [train_num, val_num])\n",
    "\n",
    "    # Bind data transforms to the subset datasets\n",
    "    ds_train = TransformDataset(ds_train, T.train_transforms, T.train_target_transforms)\n",
    "    ds_val = TransformDataset(ds_val, T.test_transforms, T.test_target_transforms)\n",
    "\n",
    "    dataloaders = {\n",
    "        'train': DataLoader(ds_train, shuffle=True, **dataloader_opts),\n",
    "        'eval': DataLoader(ds_val, shuffle=False, **dataloader_opts),\n",
    "    }\n",
    "\n",
    "    print(\"Training samples:\", train_num)\n",
    "    print(\"Validation samples:\", val_num)"
   ]
  },
  {
   "cell_type": "code",
   "execution_count": 5,
   "metadata": {},
   "outputs": [],
   "source": [
    "def ds_pixel_stats(dataloader):\n",
    "    pixel_counts = torch.zeros((num_classes)).to(device)\n",
    "\n",
    "    for _, y in tqdm(iter(dataloader)):\n",
    "        try:\n",
    "            un, counts = torch.unique(y.to(device), return_counts=True)\n",
    "            mask = un != ignore_index\n",
    "            pixel_counts.index_add_(0, un[mask], counts[mask].float())\n",
    "        except Exception:\n",
    "            import pdb; pdb.set_trace()\n",
    "    \n",
    "    pixel_ratio = pixel_counts / pixel_counts.sum(dim=0)\n",
    "    pixel_counts = pixel_counts.detach().cpu().numpy()\n",
    "    pixel_ratio = np.around(pixel_ratio.detach().cpu().numpy(), 4)\n",
    "    \n",
    "    return pixel_ratio, pixel_counts "
   ]
  },
  {
   "cell_type": "code",
   "execution_count": 6,
   "metadata": {},
   "outputs": [],
   "source": [
    "if prep_datasets:\n",
    "    train_proportions, train_counts = ds_pixel_stats(dataloaders['train'])\n",
    "    print(train_proportions)\n",
    "    plt.figure(); plt.bar(range(num_classes), train_proportions); plt.show()\n",
    "\n",
    "    val_proportions, val_counts = ds_pixel_stats(dataloaders['eval'])\n",
    "    print(val_proportions) \n",
    "    plt.figure(); plt.bar(range(num_classes), val_proportions); plt.show()"
   ]
  },
  {
   "cell_type": "markdown",
   "metadata": {},
   "source": [
    "# Undersample kelp-free empty images"
   ]
  },
  {
   "cell_type": "code",
   "execution_count": 7,
   "metadata": {},
   "outputs": [],
   "source": [
    "def get_indices_of_kelp_images(dataset):\n",
    "    dl = DataLoader(dataset, batch_size=1, shuffle=False, pin_memory=True, num_workers=os.cpu_count())\n",
    "    indices = []\n",
    "    \n",
    "    for i, (_, y) in enumerate(tqdm(iter(dl))):\n",
    "        if torch.any(y > 0):\n",
    "            indices.append(i)\n",
    "    return indices\n",
    "\n",
    "if prep_datasets:\n",
    "    train_indices = get_indices_of_kelp_images(ds_train)\n",
    "    val_indices = get_indices_of_kelp_images(ds_val)\n",
    "\n",
    "    ds_train = torch.utils.data.Subset(ds_train, train_indices)\n",
    "    ds_val = torch.utils.data.Subset(ds_val, val_indices)\n",
    "    ds_overfit = torch.utils.data.Subset(ds_train, range(0, batch_size))\n",
    "\n",
    "    torch.save({\n",
    "        'train': ds_train,\n",
    "        'val': ds_val,\n",
    "        'overfit': ds_overfit\n",
    "    }, dataset_path)\n",
    "else:\n",
    "    dataset_saved = torch.load(dataset_path)\n",
    "    ds_train = dataset_saved['train']\n",
    "    ds_val = dataset_saved['val']\n",
    "    ds_overfit = dataset_saved['overfit']\n",
    "    \n",
    "\n",
    "dataloaders = {\n",
    "    'train': DataLoader(ds_train, shuffle=True, **dataloader_opts),\n",
    "    'eval': DataLoader(ds_val, shuffle=False, **dataloader_opts),\n",
    "    'overfit': DataLoader(ds_overfit, shuffle=False, **dataloader_opts)\n",
    "}"
   ]
  },
  {
   "cell_type": "code",
   "execution_count": 8,
   "metadata": {},
   "outputs": [
    {
     "data": {
      "application/vnd.jupyter.widget-view+json": {
       "model_id": "c68b675840c94715acc7a7bc27029dae",
       "version_major": 2,
       "version_minor": 0
      },
      "text/plain": [
       "HBox(children=(FloatProgress(value=0.0, max=573.0), HTML(value='')))"
      ]
     },
     "metadata": {},
     "output_type": "display_data"
    },
    {
     "name": "stdout",
     "output_type": "stream",
     "text": [
      "\n",
      "[0.6924 0.3076]\n"
     ]
    },
    {
     "data": {
      "image/png": "[encoded data removed]",
      "text/plain": [
       "<Figure size 432x288 with 1 Axes>"
      ]
     },
     "metadata": {
      "needs_background": "light"
     },
     "output_type": "display_data"
    },
    {
     "data": {
      "application/vnd.jupyter.widget-view+json": {
       "model_id": "c687332b71a9448fb3cb48616f2c9dbc",
       "version_major": 2,
       "version_minor": 0
      },
      "text/plain": [
       "HBox(children=(FloatProgress(value=0.0, max=155.0), HTML(value='')))"
      ]
     },
     "metadata": {},
     "output_type": "display_data"
    },
    {
     "name": "stdout",
     "output_type": "stream",
     "text": [
      "\n",
      "[0.6709 0.3291]\n"
     ]
    },
    {
     "data": {
      "image/png": "[encoded data removed]",
      "text/plain": [
       "<Figure size 432x288 with 1 Axes>"
      ]
     },
     "metadata": {
      "needs_background": "light"
     },
     "output_type": "display_data"
    }
   ],
   "source": [
    "train_proportions, train_counts = ds_pixel_stats(dataloaders['train'])\n",
    "print(train_proportions)\n",
    "plt.figure(); plt.bar(range(num_classes), train_proportions); plt.show()\n",
    "\n",
    "val_proportions, val_counts = ds_pixel_stats(dataloaders['eval'])\n",
    "print(val_proportions) \n",
    "plt.figure(); plt.bar(range(num_classes), val_proportions); plt.show()"
   ]
  },
  {
   "cell_type": "markdown",
   "metadata": {},
   "source": [
    "# Net, opt, loss"
   ]
  },
  {
   "cell_type": "code",
   "execution_count": 9,
   "metadata": {},
   "outputs": [],
   "source": [
    "from utils.loss import CBLoss\n",
    "\n",
    "model = deeplabv3.create_model(num_classes)\n",
    "model = model.to(device)\n",
    "# model = half_precision(model)\n",
    "\n",
    "if torch.cuda.device_count() > 1:\n",
    "    print(\"Using\", torch.cuda.device_count(), \"GPUs!\")\n",
    "    model = nn.DataParallel(model)\n",
    "\n",
    "# optimizer = torch.optim.SGD(model.parameters(), lr=0.01, momentum=0.9, weight_decay=0.01)\n",
    "optimizer = torch.optim.Adam(model.parameters(), lr=1e-4, weight_decay=0.01)\n",
    "\n",
    "# criterion = nn.CrossEntropyLoss(ignore_index=ignore_index)\n",
    "criterion = CBLoss(train_counts.astype(np.int32), num_classes, \"focal\", 0.9999, 2.0)"
   ]
  },
  {
   "cell_type": "markdown",
   "metadata": {},
   "source": [
    "# Overfit to a single batch to ensure things work"
   ]
  },
  {
   "cell_type": "code",
   "execution_count": 10,
   "metadata": {
    "scrolled": false
   },
   "outputs": [],
   "source": [
    "def overfit_model_to_single_batch(model, dataloader, optimizer, criterion, num_epochs):\n",
    "    model.train()\n",
    "    \n",
    "    info = OrderedDict()\n",
    "    sum_iou = np.zeros(num_classes)\n",
    "    cm = ConfusionMatrix(num_classes).to(device)\n",
    "    \n",
    "    with trange(1, num_epochs+1) as pbar:\n",
    "        for epoch in pbar:\n",
    "            for x, y in dataloader:\n",
    "                x = x.to(device)\n",
    "                y = y.to(device)\n",
    "\n",
    "                optimizer.zero_grad()\n",
    "\n",
    "                pred = model(x)['out']\n",
    "                loss = criterion(pred, y)\n",
    "\n",
    "                loss.backward()\n",
    "                optimizer.step()\n",
    "\n",
    "                if epoch % 100 == 0:\n",
    "                    show_torch_batch(x, y, pred)\n",
    "\n",
    "                # Compute metrics\n",
    "                loss = loss.detach().cpu().item()\n",
    "                info['batch_loss'] = loss\n",
    "\n",
    "                cm.update(y, pred.max(dim=1)[1])\n",
    "                info['IoUs'] = np.around(np.nan_to_num(cm.get_iou().detach().cpu().numpy()), 4)\n",
    "\n",
    "                pbar.set_postfix(info)\n",
    "    \n",
    "    return model\n",
    "    \n",
    "# model = overfit_model_to_single_batch(model, dataloaders['overfit'], optimizer, criterion, 10)"
   ]
  },
  {
   "cell_type": "markdown",
   "metadata": {},
   "source": [
    "# Train the model"
   ]
  },
  {
   "cell_type": "code",
   "execution_count": 11,
   "metadata": {},
   "outputs": [],
   "source": [
    "def train_model(model, dataloaders, num_classes, optimizer, criterion, num_epochs, save_path, start_epoch=0):\n",
    "    info = OrderedDict()\n",
    "    \n",
    "    best_loss = None\n",
    "    \n",
    "    for epoch in trange(start_epoch, num_epochs, desc=\"epoch\"):\n",
    "        sum_loss = 0.\n",
    "        sum_iou = np.zeros(num_classes)\n",
    "        cm = ConfusionMatrix(num_classes).to(device)\n",
    "        \n",
    "        for phase in ['train', 'eval']:\n",
    "            with tqdm(iter(dataloaders[phase]), desc=phase) as pbar:\n",
    "                for i, (x, y) in enumerate(pbar):\n",
    "                    x = x.to(device)\n",
    "                    y = y.to(device)\n",
    "\n",
    "                    optimizer.zero_grad()\n",
    "\n",
    "                    if phase == 'train':\n",
    "                        model.train()\n",
    "                    else:\n",
    "                        model.eval()\n",
    "\n",
    "                    pred = model(x)['out']\n",
    "                    loss = criterion(pred, y)\n",
    "\n",
    "                    if phase == 'train':\n",
    "                        loss.backward()\n",
    "                        optimizer.step()\n",
    "\n",
    "                    # Compute metrics\n",
    "                    sum_loss += loss.detach().cpu().item()\n",
    "                    info['mean_loss'] = sum_loss / (i+1)\n",
    "\n",
    "                    mask = y != ignore_index\n",
    "                    cm.update(y[mask], pred.max(dim=1)[1][mask])\n",
    "                    info['IoUs'] = np.around(np.nan_to_num(cm.get_iou().detach().cpu().numpy()), 4)\n",
    "\n",
    "                    pbar.set_postfix(info)\n",
    "            \n",
    "            # Show a batch of images\n",
    "            show_torch_batch(x, y, pred)\n",
    "                \n",
    "        # Model checkpointing after eval stage\n",
    "        if best_loss is None or info['mean_loss'] < best_loss:\n",
    "            torch.save({\n",
    "                'epoch': epoch,\n",
    "                'model_state_dict': model.state_dict(),\n",
    "                'optimizer_state_dict': optimizer.state_dict(),\n",
    "                'mean_eval_loss': info['mean_loss'],\n",
    "                }, save_path)\n",
    "                \n",
    "    return model"
   ]
  },
  {
   "cell_type": "code",
   "execution_count": 12,
   "metadata": {
    "scrolled": true
   },
   "outputs": [
    {
     "data": {
      "application/vnd.jupyter.widget-view+json": {
       "model_id": "31d9e4b905d747e2982feca49b10fc58",
       "version_major": 2,
       "version_minor": 0
      },
      "text/plain": [
       "HBox(children=(FloatProgress(value=0.0, description='epoch', max=30.0, style=ProgressStyle(description_width='…"
      ]
     },
     "metadata": {},
     "output_type": "display_data"
    },
    {
     "data": {
      "application/vnd.jupyter.widget-view+json": {
       "model_id": "5a024ff3d5774d7b811da199dd50e669",
       "version_major": 2,
       "version_minor": 0
      },
      "text/plain": [
       "HBox(children=(FloatProgress(value=0.0, description='train', max=573.0, style=ProgressStyle(description_width=…"
      ]
     },
     "metadata": {},
     "output_type": "display_data"
    },
    {
     "name": "stdout",
     "output_type": "stream",
     "text": [
      "> /home/tadenoud/PycharmProjects/uav-classif/utils/loss.py(83)__call__()\n",
      "-> labels_one_hot = F.one_hot(labels, self.no_of_classes).float()\n",
      "(Pdb) labels.shape\n",
      "torch.Size([4, 200, 200])\n",
      "(Pdb) n\n",
      "> /home/tadenoud/PycharmProjects/uav-classif/utils/loss.py(85)__call__()\n",
      "-> weights = self.weights.repeat(labels_one_hot.shape[0], 1) * labels_one_hot\n",
      "(Pdb) labels_one_hot.shape\n",
      "torch.Size([4, 200, 200, 2])\n",
      "(Pdb) labels_one_hot\n",
      "tensor([[[[1., 0.],\n",
      "          [1., 0.],\n",
      "          [1., 0.],\n",
      "          ...,\n",
      "          [1., 0.],\n",
      "          [1., 0.],\n",
      "          [1., 0.]],\n",
      "\n",
      "         [[1., 0.],\n",
      "          [1., 0.],\n",
      "          [1., 0.],\n",
      "          ...,\n",
      "          [1., 0.],\n",
      "          [1., 0.],\n",
      "          [1., 0.]],\n",
      "\n",
      "         [[1., 0.],\n",
      "          [1., 0.],\n",
      "          [1., 0.],\n",
      "          ...,\n",
      "          [1., 0.],\n",
      "          [1., 0.],\n",
      "          [1., 0.]],\n",
      "\n",
      "         ...,\n",
      "\n",
      "         [[1., 0.],\n",
      "          [1., 0.],\n",
      "          [1., 0.],\n",
      "          ...,\n",
      "          [1., 0.],\n",
      "          [1., 0.],\n",
      "          [1., 0.]],\n",
      "\n",
      "         [[1., 0.],\n",
      "          [1., 0.],\n",
      "          [1., 0.],\n",
      "          ...,\n",
      "          [1., 0.],\n",
      "          [1., 0.],\n",
      "          [1., 0.]],\n",
      "\n",
      "         [[1., 0.],\n",
      "          [1., 0.],\n",
      "          [1., 0.],\n",
      "          ...,\n",
      "          [1., 0.],\n",
      "          [1., 0.],\n",
      "          [1., 0.]]],\n",
      "\n",
      "\n",
      "        [[[1., 0.],\n",
      "          [1., 0.],\n",
      "          [1., 0.],\n",
      "          ...,\n",
      "          [1., 0.],\n",
      "          [1., 0.],\n",
      "          [1., 0.]],\n",
      "\n",
      "         [[1., 0.],\n",
      "          [1., 0.],\n",
      "          [1., 0.],\n",
      "          ...,\n",
      "          [1., 0.],\n",
      "          [1., 0.],\n",
      "          [1., 0.]],\n",
      "\n",
      "         [[1., 0.],\n",
      "          [1., 0.],\n",
      "          [1., 0.],\n",
      "          ...,\n",
      "          [1., 0.],\n",
      "          [1., 0.],\n",
      "          [1., 0.]],\n",
      "\n",
      "         ...,\n",
      "\n",
      "         [[1., 0.],\n",
      "          [1., 0.],\n",
      "          [1., 0.],\n",
      "          ...,\n",
      "          [1., 0.],\n",
      "          [1., 0.],\n",
      "          [1., 0.]],\n",
      "\n",
      "         [[1., 0.],\n",
      "          [1., 0.],\n",
      "          [1., 0.],\n",
      "          ...,\n",
      "          [1., 0.],\n",
      "          [1., 0.],\n",
      "          [1., 0.]],\n",
      "\n",
      "         [[1., 0.],\n",
      "          [1., 0.],\n",
      "          [1., 0.],\n",
      "          ...,\n",
      "          [1., 0.],\n",
      "          [1., 0.],\n",
      "          [1., 0.]]],\n",
      "\n",
      "\n",
      "        [[[1., 0.],\n",
      "          [1., 0.],\n",
      "          [1., 0.],\n",
      "          ...,\n",
      "          [1., 0.],\n",
      "          [1., 0.],\n",
      "          [1., 0.]],\n",
      "\n",
      "         [[1., 0.],\n",
      "          [1., 0.],\n",
      "          [1., 0.],\n",
      "          ...,\n",
      "          [1., 0.],\n",
      "          [1., 0.],\n",
      "          [1., 0.]],\n",
      "\n",
      "         [[1., 0.],\n",
      "          [1., 0.],\n",
      "          [1., 0.],\n",
      "          ...,\n",
      "          [1., 0.],\n",
      "          [1., 0.],\n",
      "          [1., 0.]],\n",
      "\n",
      "         ...,\n",
      "\n",
      "         [[1., 0.],\n",
      "          [1., 0.],\n",
      "          [1., 0.],\n",
      "          ...,\n",
      "          [1., 0.],\n",
      "          [1., 0.],\n",
      "          [1., 0.]],\n",
      "\n",
      "         [[1., 0.],\n",
      "          [1., 0.],\n",
      "          [1., 0.],\n",
      "          ...,\n",
      "          [1., 0.],\n",
      "          [1., 0.],\n",
      "          [1., 0.]],\n",
      "\n",
      "         [[1., 0.],\n",
      "          [1., 0.],\n",
      "          [1., 0.],\n",
      "          ...,\n",
      "          [1., 0.],\n",
      "          [1., 0.],\n",
      "          [1., 0.]]],\n",
      "\n",
      "\n",
      "        [[[1., 0.],\n",
      "          [1., 0.],\n",
      "          [1., 0.],\n",
      "          ...,\n",
      "          [1., 0.],\n",
      "          [1., 0.],\n",
      "          [1., 0.]],\n",
      "\n",
      "         [[1., 0.],\n",
      "          [1., 0.],\n",
      "          [1., 0.],\n",
      "          ...,\n",
      "          [1., 0.],\n",
      "          [1., 0.],\n",
      "          [1., 0.]],\n",
      "\n",
      "         [[1., 0.],\n",
      "          [1., 0.],\n",
      "          [1., 0.],\n",
      "          ...,\n",
      "          [1., 0.],\n",
      "          [1., 0.],\n",
      "          [1., 0.]],\n",
      "\n",
      "         ...,\n",
      "\n",
      "         [[1., 0.],\n",
      "          [1., 0.],\n",
      "          [1., 0.],\n",
      "          ...,\n",
      "          [1., 0.],\n",
      "          [1., 0.],\n",
      "          [1., 0.]],\n",
      "\n",
      "         [[1., 0.],\n",
      "          [1., 0.],\n",
      "          [1., 0.],\n",
      "          ...,\n",
      "          [1., 0.],\n",
      "          [1., 0.],\n",
      "          [1., 0.]],\n",
      "\n",
      "         [[1., 0.],\n",
      "          [1., 0.],\n",
      "          [1., 0.],\n",
      "          ...,\n",
      "          [1., 0.],\n",
      "          [1., 0.],\n",
      "          [1., 0.]]]], device='cuda:0')\n",
      "(Pdb) ll\n",
      " 76  \t    def __call__(self, logits, labels):\n",
      " 77  \t        \"\"\"\n",
      " 78  \t        Args:\n",
      " 79  \t          labels: A int tensor of size [batch].\n",
      " 80  \t          logits: A float tensor of size [batch, no_of_classes].\n",
      " 81  \t        \"\"\"\n",
      " 82  \t        import pdb; pdb.set_trace()\n",
      " 83  \t        labels_one_hot = F.one_hot(labels, self.no_of_classes).float()\n",
      " 84  \t\n",
      " 85  ->\t        weights = self.weights.repeat(labels_one_hot.shape[0], 1) * labels_one_hot\n",
      " 86  \t        weights = weights.sum(1)\n",
      " 87  \t        weights = weights.unsqueeze(1)\n",
      " 88  \t        weights = weights.repeat(1, self.no_of_classes)\n",
      " 89  \t\n",
      " 90  \t        if self.loss_type == \"focal\":\n",
      " 91  \t            return focal_loss(labels_one_hot, logits, weights, self.gamma)\n",
      " 92  \t        elif self.loss_type == \"sigmoid\":\n",
      " 93  \t            return F.binary_cross_entropy_with_logits(input=logits, target=labels_one_hot, weights=weights)\n",
      " 94  \t        elif self.loss_type == \"softmax\":\n",
      " 95  \t            pred = logits.softmax(dim=1)\n",
      " 96  \t            return F.binary_cross_entropy(input=pred, target=labels_one_hot, weight=weights)\n",
      "(Pdb) q\n",
      "\n"
     ]
    },
    {
     "ename": "BdbQuit",
     "evalue": "",
     "output_type": "error",
     "traceback": [
      "\u001b[0;31m---------------------------------------------------------------------------\u001b[0m",
      "\u001b[0;31mBdbQuit\u001b[0m                                   Traceback (most recent call last)",
      "\u001b[0;32m<ipython-input-12-03314e720929>\u001b[0m in \u001b[0;36m<module>\u001b[0;34m\u001b[0m\n\u001b[1;32m     11\u001b[0m     \u001b[0mepoch\u001b[0m \u001b[0;34m=\u001b[0m \u001b[0;36m0\u001b[0m\u001b[0;34m\u001b[0m\u001b[0;34m\u001b[0m\u001b[0m\n\u001b[1;32m     12\u001b[0m \u001b[0;34m\u001b[0m\u001b[0m\n\u001b[0;32m---> 13\u001b[0;31m \u001b[0mmodel\u001b[0m \u001b[0;34m=\u001b[0m  \u001b[0mtrain_model\u001b[0m\u001b[0;34m(\u001b[0m\u001b[0mmodel\u001b[0m\u001b[0;34m,\u001b[0m \u001b[0mdataloaders\u001b[0m\u001b[0;34m,\u001b[0m \u001b[0mnum_classes\u001b[0m\u001b[0;34m,\u001b[0m \u001b[0moptimizer\u001b[0m\u001b[0;34m,\u001b[0m \u001b[0mcriterion\u001b[0m\u001b[0;34m,\u001b[0m \u001b[0mnum_epochs\u001b[0m\u001b[0;34m,\u001b[0m \u001b[0msave_path\u001b[0m\u001b[0;34m,\u001b[0m \u001b[0mstart_epoch\u001b[0m\u001b[0;34m=\u001b[0m\u001b[0mepoch\u001b[0m\u001b[0;34m)\u001b[0m\u001b[0;34m\u001b[0m\u001b[0;34m\u001b[0m\u001b[0m\n\u001b[0m",
      "\u001b[0;32m<ipython-input-11-009517af8eb6>\u001b[0m in \u001b[0;36mtrain_model\u001b[0;34m(model, dataloaders, num_classes, optimizer, criterion, num_epochs, save_path, start_epoch)\u001b[0m\n\u001b[1;32m     23\u001b[0m \u001b[0;34m\u001b[0m\u001b[0m\n\u001b[1;32m     24\u001b[0m                     \u001b[0mpred\u001b[0m \u001b[0;34m=\u001b[0m \u001b[0mmodel\u001b[0m\u001b[0;34m(\u001b[0m\u001b[0mx\u001b[0m\u001b[0;34m)\u001b[0m\u001b[0;34m[\u001b[0m\u001b[0;34m'out'\u001b[0m\u001b[0;34m]\u001b[0m\u001b[0;34m\u001b[0m\u001b[0;34m\u001b[0m\u001b[0m\n\u001b[0;32m---> 25\u001b[0;31m                     \u001b[0mloss\u001b[0m \u001b[0;34m=\u001b[0m \u001b[0mcriterion\u001b[0m\u001b[0;34m(\u001b[0m\u001b[0mpred\u001b[0m\u001b[0;34m,\u001b[0m \u001b[0my\u001b[0m\u001b[0;34m)\u001b[0m\u001b[0;34m\u001b[0m\u001b[0;34m\u001b[0m\u001b[0m\n\u001b[0m\u001b[1;32m     26\u001b[0m \u001b[0;34m\u001b[0m\u001b[0m\n\u001b[1;32m     27\u001b[0m                     \u001b[0;32mif\u001b[0m \u001b[0mphase\u001b[0m \u001b[0;34m==\u001b[0m \u001b[0;34m'train'\u001b[0m\u001b[0;34m:\u001b[0m\u001b[0;34m\u001b[0m\u001b[0;34m\u001b[0m\u001b[0m\n",
      "\u001b[0;32m~/PycharmProjects/uav-classif/utils/loss.py\u001b[0m in \u001b[0;36m__call__\u001b[0;34m(self, logits, labels)\u001b[0m\n\u001b[1;32m     83\u001b[0m         \u001b[0mlabels_one_hot\u001b[0m \u001b[0;34m=\u001b[0m \u001b[0mF\u001b[0m\u001b[0;34m.\u001b[0m\u001b[0mone_hot\u001b[0m\u001b[0;34m(\u001b[0m\u001b[0mlabels\u001b[0m\u001b[0;34m,\u001b[0m \u001b[0mself\u001b[0m\u001b[0;34m.\u001b[0m\u001b[0mno_of_classes\u001b[0m\u001b[0;34m)\u001b[0m\u001b[0;34m.\u001b[0m\u001b[0mfloat\u001b[0m\u001b[0;34m(\u001b[0m\u001b[0;34m)\u001b[0m\u001b[0;34m\u001b[0m\u001b[0;34m\u001b[0m\u001b[0m\n\u001b[1;32m     84\u001b[0m \u001b[0;34m\u001b[0m\u001b[0m\n\u001b[0;32m---> 85\u001b[0;31m         \u001b[0mweights\u001b[0m \u001b[0;34m=\u001b[0m \u001b[0mself\u001b[0m\u001b[0;34m.\u001b[0m\u001b[0mweights\u001b[0m\u001b[0;34m.\u001b[0m\u001b[0mrepeat\u001b[0m\u001b[0;34m(\u001b[0m\u001b[0mlabels_one_hot\u001b[0m\u001b[0;34m.\u001b[0m\u001b[0mshape\u001b[0m\u001b[0;34m[\u001b[0m\u001b[0;36m0\u001b[0m\u001b[0;34m]\u001b[0m\u001b[0;34m,\u001b[0m \u001b[0;36m1\u001b[0m\u001b[0;34m)\u001b[0m \u001b[0;34m*\u001b[0m \u001b[0mlabels_one_hot\u001b[0m\u001b[0;34m\u001b[0m\u001b[0;34m\u001b[0m\u001b[0m\n\u001b[0m\u001b[1;32m     86\u001b[0m         \u001b[0mweights\u001b[0m \u001b[0;34m=\u001b[0m \u001b[0mweights\u001b[0m\u001b[0;34m.\u001b[0m\u001b[0msum\u001b[0m\u001b[0;34m(\u001b[0m\u001b[0;36m1\u001b[0m\u001b[0;34m)\u001b[0m\u001b[0;34m\u001b[0m\u001b[0;34m\u001b[0m\u001b[0m\n\u001b[1;32m     87\u001b[0m         \u001b[0mweights\u001b[0m \u001b[0;34m=\u001b[0m \u001b[0mweights\u001b[0m\u001b[0;34m.\u001b[0m\u001b[0munsqueeze\u001b[0m\u001b[0;34m(\u001b[0m\u001b[0;36m1\u001b[0m\u001b[0;34m)\u001b[0m\u001b[0;34m\u001b[0m\u001b[0;34m\u001b[0m\u001b[0m\n",
      "\u001b[0;32m~/PycharmProjects/uav-classif/utils/loss.py\u001b[0m in \u001b[0;36m__call__\u001b[0;34m(self, logits, labels)\u001b[0m\n\u001b[1;32m     83\u001b[0m         \u001b[0mlabels_one_hot\u001b[0m \u001b[0;34m=\u001b[0m \u001b[0mF\u001b[0m\u001b[0;34m.\u001b[0m\u001b[0mone_hot\u001b[0m\u001b[0;34m(\u001b[0m\u001b[0mlabels\u001b[0m\u001b[0;34m,\u001b[0m \u001b[0mself\u001b[0m\u001b[0;34m.\u001b[0m\u001b[0mno_of_classes\u001b[0m\u001b[0;34m)\u001b[0m\u001b[0;34m.\u001b[0m\u001b[0mfloat\u001b[0m\u001b[0;34m(\u001b[0m\u001b[0;34m)\u001b[0m\u001b[0;34m\u001b[0m\u001b[0;34m\u001b[0m\u001b[0m\n\u001b[1;32m     84\u001b[0m \u001b[0;34m\u001b[0m\u001b[0m\n\u001b[0;32m---> 85\u001b[0;31m         \u001b[0mweights\u001b[0m \u001b[0;34m=\u001b[0m \u001b[0mself\u001b[0m\u001b[0;34m.\u001b[0m\u001b[0mweights\u001b[0m\u001b[0;34m.\u001b[0m\u001b[0mrepeat\u001b[0m\u001b[0;34m(\u001b[0m\u001b[0mlabels_one_hot\u001b[0m\u001b[0;34m.\u001b[0m\u001b[0mshape\u001b[0m\u001b[0;34m[\u001b[0m\u001b[0;36m0\u001b[0m\u001b[0;34m]\u001b[0m\u001b[0;34m,\u001b[0m \u001b[0;36m1\u001b[0m\u001b[0;34m)\u001b[0m \u001b[0;34m*\u001b[0m \u001b[0mlabels_one_hot\u001b[0m\u001b[0;34m\u001b[0m\u001b[0;34m\u001b[0m\u001b[0m\n\u001b[0m\u001b[1;32m     86\u001b[0m         \u001b[0mweights\u001b[0m \u001b[0;34m=\u001b[0m \u001b[0mweights\u001b[0m\u001b[0;34m.\u001b[0m\u001b[0msum\u001b[0m\u001b[0;34m(\u001b[0m\u001b[0;36m1\u001b[0m\u001b[0;34m)\u001b[0m\u001b[0;34m\u001b[0m\u001b[0;34m\u001b[0m\u001b[0m\n\u001b[1;32m     87\u001b[0m         \u001b[0mweights\u001b[0m \u001b[0;34m=\u001b[0m \u001b[0mweights\u001b[0m\u001b[0;34m.\u001b[0m\u001b[0munsqueeze\u001b[0m\u001b[0;34m(\u001b[0m\u001b[0;36m1\u001b[0m\u001b[0;34m)\u001b[0m\u001b[0;34m\u001b[0m\u001b[0;34m\u001b[0m\u001b[0m\n",
      "\u001b[0;32m~/anaconda3/envs/uav/lib/python3.7/bdb.py\u001b[0m in \u001b[0;36mtrace_dispatch\u001b[0;34m(self, frame, event, arg)\u001b[0m\n\u001b[1;32m     86\u001b[0m             \u001b[0;32mreturn\u001b[0m \u001b[0;31m# None\u001b[0m\u001b[0;34m\u001b[0m\u001b[0;34m\u001b[0m\u001b[0m\n\u001b[1;32m     87\u001b[0m         \u001b[0;32mif\u001b[0m \u001b[0mevent\u001b[0m \u001b[0;34m==\u001b[0m \u001b[0;34m'line'\u001b[0m\u001b[0;34m:\u001b[0m\u001b[0;34m\u001b[0m\u001b[0;34m\u001b[0m\u001b[0m\n\u001b[0;32m---> 88\u001b[0;31m             \u001b[0;32mreturn\u001b[0m \u001b[0mself\u001b[0m\u001b[0;34m.\u001b[0m\u001b[0mdispatch_line\u001b[0m\u001b[0;34m(\u001b[0m\u001b[0mframe\u001b[0m\u001b[0;34m)\u001b[0m\u001b[0;34m\u001b[0m\u001b[0;34m\u001b[0m\u001b[0m\n\u001b[0m\u001b[1;32m     89\u001b[0m         \u001b[0;32mif\u001b[0m \u001b[0mevent\u001b[0m \u001b[0;34m==\u001b[0m \u001b[0;34m'call'\u001b[0m\u001b[0;34m:\u001b[0m\u001b[0;34m\u001b[0m\u001b[0;34m\u001b[0m\u001b[0m\n\u001b[1;32m     90\u001b[0m             \u001b[0;32mreturn\u001b[0m \u001b[0mself\u001b[0m\u001b[0;34m.\u001b[0m\u001b[0mdispatch_call\u001b[0m\u001b[0;34m(\u001b[0m\u001b[0mframe\u001b[0m\u001b[0;34m,\u001b[0m \u001b[0marg\u001b[0m\u001b[0;34m)\u001b[0m\u001b[0;34m\u001b[0m\u001b[0;34m\u001b[0m\u001b[0m\n",
      "\u001b[0;32m~/anaconda3/envs/uav/lib/python3.7/bdb.py\u001b[0m in \u001b[0;36mdispatch_line\u001b[0;34m(self, frame)\u001b[0m\n\u001b[1;32m    111\u001b[0m         \u001b[0;32mif\u001b[0m \u001b[0mself\u001b[0m\u001b[0;34m.\u001b[0m\u001b[0mstop_here\u001b[0m\u001b[0;34m(\u001b[0m\u001b[0mframe\u001b[0m\u001b[0;34m)\u001b[0m \u001b[0;32mor\u001b[0m \u001b[0mself\u001b[0m\u001b[0;34m.\u001b[0m\u001b[0mbreak_here\u001b[0m\u001b[0;34m(\u001b[0m\u001b[0mframe\u001b[0m\u001b[0;34m)\u001b[0m\u001b[0;34m:\u001b[0m\u001b[0;34m\u001b[0m\u001b[0;34m\u001b[0m\u001b[0m\n\u001b[1;32m    112\u001b[0m             \u001b[0mself\u001b[0m\u001b[0;34m.\u001b[0m\u001b[0muser_line\u001b[0m\u001b[0;34m(\u001b[0m\u001b[0mframe\u001b[0m\u001b[0;34m)\u001b[0m\u001b[0;34m\u001b[0m\u001b[0;34m\u001b[0m\u001b[0m\n\u001b[0;32m--> 113\u001b[0;31m             \u001b[0;32mif\u001b[0m \u001b[0mself\u001b[0m\u001b[0;34m.\u001b[0m\u001b[0mquitting\u001b[0m\u001b[0;34m:\u001b[0m \u001b[0;32mraise\u001b[0m \u001b[0mBdbQuit\u001b[0m\u001b[0;34m\u001b[0m\u001b[0;34m\u001b[0m\u001b[0m\n\u001b[0m\u001b[1;32m    114\u001b[0m         \u001b[0;32mreturn\u001b[0m \u001b[0mself\u001b[0m\u001b[0;34m.\u001b[0m\u001b[0mtrace_dispatch\u001b[0m\u001b[0;34m\u001b[0m\u001b[0;34m\u001b[0m\u001b[0m\n\u001b[1;32m    115\u001b[0m \u001b[0;34m\u001b[0m\u001b[0m\n",
      "\u001b[0;31mBdbQuit\u001b[0m: "
     ]
    }
   ],
   "source": [
    "from pathlib import Path\n",
    "save_path = Path('../checkpoints/deeplabv3/checkpoint2.pt')\n",
    "save_path.parents[0].mkdir(parents=True, exist_ok=True)\n",
    "\n",
    "if Path(save_path).exists():\n",
    "    checkpoint = torch.load(save_path)\n",
    "    model.load_state_dict(checkpoint['model_state_dict'])\n",
    "    optimizer.load_state_dict(checkpoint['optimizer_state_dict'])\n",
    "    epoch = checkpoint['epoch']\n",
    "else:\n",
    "    epoch = 0\n",
    "\n",
    "model =  train_model(model, dataloaders, num_classes, optimizer, criterion, num_epochs, save_path, start_epoch=epoch)"
   ]
  },
  {
   "cell_type": "markdown",
   "metadata": {},
   "source": [
    "## TODO\n",
    "\n",
    "- Change mixed class to don't care\n",
    "- Try different optimizer\n",
    "- ~~Train for Kelp/Not Kelp only~~\n",
    "- Check that changing prior doesn't affect performance too badly\n",
    "- Optimize regularization\n",
    "\n",
    "## TO TRY\n",
    "- Add Jaccard index loss as in https://www.kaggle.com/windsurfer/baseline-u-net-on-pytorch\n",
    "- Straight Jaccard loss\n",
    "- ~~Undersample Kelp-free images~~\n",
    "- Oversample images with kelp\n",
    "- Try UNet"
   ]
  }
 ],
 "metadata": {
  "kernelspec": {
   "display_name": "Python 3",
   "language": "python",
   "name": "python3"
  },
  "language_info": {
   "codemirror_mode": {
    "name": "ipython",
    "version": 3
   },
   "file_extension": ".py",
   "mimetype": "text/x-python",
   "name": "python",
   "nbconvert_exporter": "python",
   "pygments_lexer": "ipython3",
   "version": "3.7.6"
  },
  "pycharm": {
   "stem_cell": {
    "cell_type": "raw",
    "metadata": {
     "collapsed": false
    },
    "source": []
   }
  }
 },
 "nbformat": 4,
 "nbformat_minor": 4
}
