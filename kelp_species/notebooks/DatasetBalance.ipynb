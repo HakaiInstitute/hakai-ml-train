{
 "cells": [
  {
   "cell_type": "code",
   "execution_count": 1,
   "metadata": {},
   "outputs": [],
   "source": [
    "import sys\n",
    "sys.path.insert(0,'/home/taylor/PycharmProjects/uav-classif')\n",
    "\n",
    "from pathlib import Path\n",
    "from torch.utils.data import DataLoader\n",
    "from utils.dataset.SegmentationDataset import SegmentationDataset\n",
    "from torchvision import transforms\n",
    "from utils.dataset.transforms import _target_to_tensor\n",
    "import torch\n",
    "from tqdm.auto import tqdm\n",
    "import os\n",
    "import matplotlib.pyplot as plt\n",
    "import numpy as np\n",
    "\n",
    "if torch.cuda.is_available():\n",
    "    device = torch.device('cuda')\n",
    "else:\n",
    "    device = torch.device('cpu')"
   ]
  },
  {
   "cell_type": "code",
   "execution_count": 2,
   "metadata": {},
   "outputs": [],
   "source": [
    "train_data_path = Path('../train_input/data/train')\n",
    "eval_data_path = Path('../train_input/data/eval')"
   ]
  },
  {
   "cell_type": "code",
   "execution_count": 3,
   "metadata": {},
   "outputs": [],
   "source": [
    "train_ds = SegmentationDataset(train_data_path, \n",
    "                               transform=transforms.ToTensor(), \n",
    "                               target_transform=_target_to_tensor)\n",
    "train_dl = DataLoader(train_ds, batch_size=16, num_workers=os.cpu_count())"
   ]
  },
  {
   "cell_type": "code",
   "execution_count": 4,
   "metadata": {},
   "outputs": [
    {
     "data": {
      "application/vnd.jupyter.widget-view+json": {
       "model_id": "0d0133cd88954b03b1d8f977728b4577",
       "version_major": 2,
       "version_minor": 0
      },
      "text/plain": [
       "HBox(children=(FloatProgress(value=0.0, max=790.0), HTML(value='')))"
      ]
     },
     "metadata": {},
     "output_type": "display_data"
    },
    {
     "name": "stdout",
     "output_type": "stream",
     "text": [
      "\n"
     ]
    }
   ],
   "source": [
    "totals = {}\n",
    "\n",
    "for x, y in tqdm(train_dl):\n",
    "    y = y.to(device)\n",
    "    unique, counts = torch.unique(y, return_counts=True)\n",
    "    for u, c in zip(unique, counts):\n",
    "        u = u.detach().cpu().numpy()\n",
    "        c = c.detach().cpu().numpy()\n",
    "        totals[str(u)] = totals.get(str(u), 0) + c"
   ]
  },
  {
   "cell_type": "code",
   "execution_count": 9,
   "metadata": {},
   "outputs": [
    {
     "data": {
      "image/png": "[encoded data removed]",
      "text/plain": [
       "<Figure size 432x288 with 1 Axes>"
      ]
     },
     "metadata": {
      "needs_background": "light"
     },
     "output_type": "display_data"
    }
   ],
   "source": [
    "totals_sorted = np.array(sorted(totals.items(), key=lambda a: a[0]))[:,1].astype(np.int)\n",
    "# plt.ylim(0, int(max(totals_sorted)))\n",
    "plt.bar(['bg', 'macro', 'nereo'], totals_sorted)\n",
    "plt.ylabel(\"# pixels\")\n",
    "plt.show()"
   ]
  },
  {
   "cell_type": "code",
   "execution_count": 7,
   "metadata": {},
   "outputs": [],
   "source": [
    "totals_sorted = totals_sorted.astype(np.int)"
   ]
  },
  {
   "cell_type": "code",
   "execution_count": 8,
   "metadata": {},
   "outputs": [
    {
     "name": "stdout",
     "output_type": "stream",
     "text": [
      "   bg: 80.267\n",
      "macro: 9.104\n",
      "nereo: 10.630\n"
     ]
    }
   ],
   "source": [
    "for s, a in zip(['bg', 'macro', 'nereo'], totals_sorted):\n",
    "    print(\"%5s: %.3f\" % (s, a / sum(totals_sorted) * 100.))"
   ]
  },
  {
   "cell_type": "code",
   "execution_count": null,
   "metadata": {},
   "outputs": [],
   "source": []
  }
 ],
 "metadata": {
  "kernelspec": {
   "display_name": "Python 3",
   "language": "python",
   "name": "python3"
  },
  "language_info": {
   "codemirror_mode": {
    "name": "ipython",
    "version": 3
   },
   "file_extension": ".py",
   "mimetype": "text/x-python",
   "name": "python",
   "nbconvert_exporter": "python",
   "pygments_lexer": "ipython3",
   "version": "3.7.7"
  }
 },
 "nbformat": 4,
 "nbformat_minor": 4
}
