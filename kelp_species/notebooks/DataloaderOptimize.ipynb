{
 "cells": [
  {
   "cell_type": "code",
   "execution_count": 1,
   "metadata": {},
   "outputs": [],
   "source": [
    "from torch.utils.data import Dataset\n",
    "import torch\n",
    "from PIL import Image\n",
    "from pathlib import Path\n",
    "import numpy as np\n",
    "import random\n",
    "import sys\n",
    "\n",
    "sys.path.insert(0, '/home/taylor/PycharmProjects/uav-classif')"
   ]
  },
  {
   "cell_type": "code",
   "execution_count": 2,
   "metadata": {},
   "outputs": [],
   "source": [
    "from utils.dataset.transforms import transforms as t\n",
    "import os\n",
    "from torch.utils.data import DataLoader\n",
    "\n",
    "train_data_dir = '/home/taylor/PycharmProjects/uav-classif/kelp_species/train_input/data/train'"
   ]
  },
  {
   "cell_type": "code",
   "execution_count": 3,
   "metadata": {},
   "outputs": [
    {
     "name": "stdout",
     "output_type": "stream",
     "text": [
      "198 ms ± 12.1 ms per loop (mean ± std. dev. of 7 runs, 1 loop each)\n"
     ]
    }
   ],
   "source": [
    "%%timeit\n",
    "\n",
    "class SegmentationDataset(Dataset):\n",
    "    def __init__(self, ds_path, ext=\".png\", transform=None, target_transform=None):\n",
    "        super().__init__()\n",
    "        self._images = sorted(Path(ds_path).joinpath(\"x\").glob(\"*\" + ext))\n",
    "        self._labels = sorted(Path(ds_path).joinpath(\"y\").glob(\"*\" + ext))\n",
    "        self.transform = transform\n",
    "        self.target_transform = target_transform\n",
    "\n",
    "    def __len__(self):\n",
    "        return len(list(self._images))\n",
    "\n",
    "    def __getitem__(self, idx):\n",
    "        img = Image.open(self._images[idx]).convert('RGB')\n",
    "        target = Image.open(self._labels[idx])\n",
    "\n",
    "        seed = np.random.randint(2147483647)\n",
    "\n",
    "        torch.manual_seed(seed)\n",
    "        random.seed(seed)  # apply this seed to img transforms\n",
    "        if self.transform is not None:\n",
    "            img = self.transform(img)\n",
    "\n",
    "        torch.manual_seed(seed)\n",
    "        random.seed(seed)  # apply this seed to target transforms\n",
    "        if self.target_transform is not None:\n",
    "            target = self.target_transform(target)\n",
    "\n",
    "        return img, target\n",
    "\n",
    "ds_train = SegmentationDataset(train_data_dir, transform=t.train_transforms,\n",
    "                                       target_transform=t.train_target_transforms)\n",
    "\n",
    "dl_train = DataLoader(ds_train, shuffle=True, batch_size=32, pin_memory=True,\n",
    "                          drop_last=True, num_workers=os.cpu_count())"
   ]
  },
  {
   "cell_type": "code",
   "execution_count": 10,
   "metadata": {},
   "outputs": [
    {
     "name": "stdout",
     "output_type": "stream",
     "text": [
      "30 ms ± 1.15 ms per loop (mean ± std. dev. of 7 runs, 10 loops each)\n"
     ]
    }
   ],
   "source": [
    "%%timeit\n",
    "\n",
    "class SegmentationDataset(Dataset):\n",
    "    def __init__(self, ds_path, ext=\".png\", transform=None, target_transform=None):\n",
    "        super().__init__()\n",
    "        self._images = list(Path(ds_path).joinpath(\"x\").iterdir())\n",
    "        self._labels = list(Path(ds_path).joinpath(\"y\").iterdir())\n",
    "        self.transform = transform\n",
    "        self.target_transform = target_transform\n",
    "\n",
    "    def __len__(self):\n",
    "        return len(list(self._images))\n",
    "\n",
    "    def __getitem__(self, idx):        \n",
    "        img = Image.open(self._images[idx]).convert('RGB')\n",
    "        target = Image.open(self._labels[idx])\n",
    "\n",
    "        seed = np.random.randint(2147483647)\n",
    "\n",
    "        torch.manual_seed(seed)\n",
    "        random.seed(seed)  # apply this seed to img transforms\n",
    "        if self.transform is not None:\n",
    "            img = self.transform(img)\n",
    "\n",
    "        torch.manual_seed(seed)\n",
    "        random.seed(seed)  # apply this seed to target transforms\n",
    "        if self.target_transform is not None:\n",
    "            target = self.target_transform(target)\n",
    "\n",
    "        return img, target\n",
    "\n",
    "ds_train = SegmentationDataset(train_data_dir, transform=t.train_transforms,\n",
    "                                       target_transform=t.train_target_transforms)\n",
    "\n",
    "dl_train = DataLoader(ds_train, shuffle=True, batch_size=32, pin_memory=True,\n",
    "                          drop_last=True, num_workers=os.cpu_count())"
   ]
  },
  {
   "cell_type": "code",
   "execution_count": null,
   "metadata": {},
   "outputs": [],
   "source": []
  }
 ],
 "metadata": {
  "kernelspec": {
   "display_name": "Python 3",
   "language": "python",
   "name": "python3"
  },
  "language_info": {
   "codemirror_mode": {
    "name": "ipython",
    "version": 3
   },
   "file_extension": ".py",
   "mimetype": "text/x-python",
   "name": "python",
   "nbconvert_exporter": "python",
   "pygments_lexer": "ipython3",
   "version": "3.7.7"
  }
 },
 "nbformat": 4,
 "nbformat_minor": 4
}
